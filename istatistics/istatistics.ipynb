{
 "cells": [
  {
   "cell_type": "markdown",
   "id": "f15ee81b-872e-472b-887d-f44db1282bb1",
   "metadata": {},
   "source": [
    "# Veri Bilimi İçin İstatistik"
   ]
  },
  {
   "cell_type": "markdown",
   "id": "2656b936-26fa-43b5-939d-31644b79c468",
   "metadata": {},
   "source": [
    "* **Örnek Teorisi**\n",
    "* **Betimsel İstatistikler**\n",
    "* **Güven Aralıkları**\n",
    "* **Olasılık Dağılımları**\n",
    "* **Hipotez Testleri**\n",
    "* **Varyans Analizi**\n",
    "* **Korelasyon Analizi**"
   ]
  },
  {
   "cell_type": "markdown",
   "id": "1b49d3f5-872e-4c83-b8b4-c21786b80a9a",
   "metadata": {},
   "source": [
    "**Without a grounding in statistics, a Data Scientist is a Data Lab Assistant.**"
   ]
  },
  {
   "cell_type": "markdown",
   "id": "49534a1f-511e-4336-addf-a14153eaa7e8",
   "metadata": {},
   "source": [
    "**İstatistik veri biliminin \"bilim\" makine öğrenmesinin \"öğrenme\" kısmıdır.**"
   ]
  },
  {
   "cell_type": "markdown",
   "id": "f027afa2-c49e-467c-acac-d23be5a753d5",
   "metadata": {},
   "source": [
    "**The Future of AI Will Be About Less data, Not More.**"
   ]
  },
  {
   "cell_type": "markdown",
   "id": "87dda2cd-be4b-4f52-989d-d14aea604e1c",
   "metadata": {},
   "source": [
    "**Örneklem**: Bir popülasyonu temsil ettiği düşünülen bir alt küme seçme işlemidir.\n",
    "Belli kurallara göre seçilir. Yansız olması gerekir."
   ]
  },
  {
   "cell_type": "markdown",
   "id": "abc84943-c991-4669-b4e1-8ca4aadbd2bf",
   "metadata": {},
   "source": [
    "**Örneklem Dağılımı**: Bir popülasyon içerisinde birden fazla örneklem çekildiğinde, bu örneklemlerin dağılımlarıyla ilgilenilmesidir."
   ]
  },
  {
   "cell_type": "markdown",
   "id": "1a5564a7-7cda-4b87-8ced-0b58f5de2a53",
   "metadata": {},
   "source": [
    "**Merkezi Limit Teoremi**: Bağımsız ve aynı dağılıma sahip rassal değişkenlerin toplamı ya da aritmetik ortalaması yaklaşık olarak normal dağılmaktadır."
   ]
  },
  {
   "cell_type": "markdown",
   "id": "7ed2df65-04ce-4791-9543-c16a9111b262",
   "metadata": {},
   "source": [
    "## Örnek Teorisi"
   ]
  },
  {
   "cell_type": "code",
   "execution_count": 14,
   "id": "9c72ff9a-9d09-45c4-98f5-2abb5d2b8dda",
   "metadata": {},
   "outputs": [],
   "source": [
    "import numpy as np"
   ]
  },
  {
   "cell_type": "code",
   "execution_count": 15,
   "id": "fcb1949b-fbec-4167-90c8-30f27af5d532",
   "metadata": {},
   "outputs": [],
   "source": [
    "populasyon = np.random.randint(0,80,10000)"
   ]
  },
  {
   "cell_type": "code",
   "execution_count": 16,
   "id": "e668b27e-25d0-4090-bbb2-9ae6af41e9af",
   "metadata": {},
   "outputs": [
    {
     "data": {
      "text/plain": [
       "array([43, 29, 77, 60, 43, 23, 35, 60, 79, 79])"
      ]
     },
     "execution_count": 16,
     "metadata": {},
     "output_type": "execute_result"
    }
   ],
   "source": [
    "populasyon[0:10]"
   ]
  },
  {
   "cell_type": "markdown",
   "id": "5b0afa95-ede2-4b7b-b39d-ec2ebc7465f6",
   "metadata": {},
   "source": [
    "**Örneklem Çekimi:**"
   ]
  },
  {
   "cell_type": "code",
   "execution_count": 21,
   "id": "d01790c0-1233-40bd-93ad-bec4f3e42adb",
   "metadata": {},
   "outputs": [
    {
     "data": {
      "text/plain": [
       "array([77, 59, 58, 38, 77, 71, 73, 17, 16, 71])"
      ]
     },
     "execution_count": 21,
     "metadata": {},
     "output_type": "execute_result"
    }
   ],
   "source": [
    "np.random.seed(115)\n",
    "orneklem = np.random.choice(a = populasyon, size = 100)\n",
    "orneklem[0:10]"
   ]
  },
  {
   "cell_type": "code",
   "execution_count": 18,
   "id": "fc9d4acc-1b14-4405-bea8-0c8b4b0fe03f",
   "metadata": {},
   "outputs": [
    {
     "data": {
      "text/plain": [
       "39.74"
      ]
     },
     "execution_count": 18,
     "metadata": {},
     "output_type": "execute_result"
    }
   ],
   "source": [
    "orneklem.mean()"
   ]
  },
  {
   "cell_type": "code",
   "execution_count": 19,
   "id": "d24b4701-f575-4f3b-be72-0c3b0a359d55",
   "metadata": {},
   "outputs": [
    {
     "data": {
      "text/plain": [
       "39.6059"
      ]
     },
     "execution_count": 19,
     "metadata": {},
     "output_type": "execute_result"
    }
   ],
   "source": [
    "populasyon.mean()"
   ]
  },
  {
   "cell_type": "markdown",
   "id": "01c215bd-7ec8-4282-a9a6-b95cbf8f233b",
   "metadata": {},
   "source": [
    "**Örneklem Dağılımı:**"
   ]
  },
  {
   "cell_type": "code",
   "execution_count": 22,
   "id": "ef277968-eadf-488a-886c-514dcb6f1d19",
   "metadata": {},
   "outputs": [],
   "source": [
    "np.random.seed(10)\n",
    "orneklem1 = np.random.choice(a = populasyon, size = 100)\n",
    "orneklem2 = np.random.choice(a = populasyon, size = 100)\n",
    "orneklem3 = np.random.choice(a = populasyon, size = 100)\n",
    "orneklem4 = np.random.choice(a = populasyon, size = 100)\n",
    "orneklem5 = np.random.choice(a = populasyon, size = 100)\n",
    "orneklem6 = np.random.choice(a = populasyon, size = 100)\n",
    "orneklem7 = np.random.choice(a = populasyon, size = 100)\n",
    "orneklem8 = np.random.choice(a = populasyon, size = 100)\n",
    "orneklem9 = np.random.choice(a = populasyon, size = 100)\n",
    "orneklem10 = np.random.choice(a = populasyon, size = 100)"
   ]
  },
  {
   "cell_type": "code",
   "execution_count": 23,
   "id": "52129524-1761-4845-8b69-d5f70713e9d9",
   "metadata": {},
   "outputs": [
    {
     "data": {
      "text/plain": [
       "38.739"
      ]
     },
     "execution_count": 23,
     "metadata": {},
     "output_type": "execute_result"
    }
   ],
   "source": [
    "(orneklem1.mean() + orneklem2.mean() + orneklem3.mean() + orneklem4.mean() + orneklem5.mean() \n",
    "+ orneklem6.mean() + orneklem7.mean() + orneklem8.mean() + orneklem9.mean() + orneklem10.mean() )  / 10"
   ]
  },
  {
   "cell_type": "code",
   "execution_count": 25,
   "id": "235e7e61-42ab-4103-94cb-8e31db761c9c",
   "metadata": {},
   "outputs": [
    {
     "data": {
      "text/plain": [
       "42.06"
      ]
     },
     "execution_count": 25,
     "metadata": {},
     "output_type": "execute_result"
    }
   ],
   "source": [
    "orneklem1.mean()"
   ]
  },
  {
   "cell_type": "code",
   "execution_count": 26,
   "id": "6689185c-3772-4754-91ac-23f88cd83da6",
   "metadata": {},
   "outputs": [
    {
     "data": {
      "text/plain": [
       "37.12"
      ]
     },
     "execution_count": 26,
     "metadata": {},
     "output_type": "execute_result"
    }
   ],
   "source": [
    "orneklem2.mean()"
   ]
  },
  {
   "cell_type": "markdown",
   "id": "08de125d-9493-4743-92e1-069ef331fd75",
   "metadata": {},
   "source": [
    "## Betimsel İstatistikler"
   ]
  },
  {
   "cell_type": "markdown",
   "id": "669926d1-2ff0-42a9-8a83-54a7cf57d715",
   "metadata": {},
   "source": [
    "* Ortalama\n",
    "* Medyan\n",
    "* Mod\n",
    "* Kartiller\n",
    "* Değişim Aralığı\n",
    "* Standart Sapma\n",
    "* Kovaryans\n",
    "* Korelasyon"
   ]
  },
  {
   "cell_type": "markdown",
   "id": "09edbe23-24fe-48bc-95dd-a7d7947fb6af",
   "metadata": {},
   "source": [
    "**Kovaryans**: İki değişken arasındaki ilişkinin değişkenlik ölçüsüdür.\n",
    "**_cov(X,Y)=E[(X-E[X])(Y-E[Y])]_**\n"
   ]
  },
  {
   "cell_type": "markdown",
   "id": "7a5a80f1-d271-415f-b4e5-0ecbef128ffd",
   "metadata": {},
   "source": [
    "**Korelasyon**: İki değişken arasındaki ilişkiyi, ilişkinin anlamlı olup olmadığını, ilişkinin şiddetini ve yönünü ifade eden istatiksel bir tekniktir."
   ]
  },
  {
   "cell_type": "code",
   "execution_count": 27,
   "id": "a2784ac9-58e6-41eb-ad45-decbab68b2d4",
   "metadata": {},
   "outputs": [
    {
     "data": {
      "text/html": [
       "<div>\n",
       "<style scoped>\n",
       "    .dataframe tbody tr th:only-of-type {\n",
       "        vertical-align: middle;\n",
       "    }\n",
       "\n",
       "    .dataframe tbody tr th {\n",
       "        vertical-align: top;\n",
       "    }\n",
       "\n",
       "    .dataframe thead th {\n",
       "        text-align: right;\n",
       "    }\n",
       "</style>\n",
       "<table border=\"1\" class=\"dataframe\">\n",
       "  <thead>\n",
       "    <tr style=\"text-align: right;\">\n",
       "      <th></th>\n",
       "      <th>total_bill</th>\n",
       "      <th>tip</th>\n",
       "      <th>sex</th>\n",
       "      <th>smoker</th>\n",
       "      <th>day</th>\n",
       "      <th>time</th>\n",
       "      <th>size</th>\n",
       "    </tr>\n",
       "  </thead>\n",
       "  <tbody>\n",
       "    <tr>\n",
       "      <th>0</th>\n",
       "      <td>16.99</td>\n",
       "      <td>1.01</td>\n",
       "      <td>Female</td>\n",
       "      <td>No</td>\n",
       "      <td>Sun</td>\n",
       "      <td>Dinner</td>\n",
       "      <td>2</td>\n",
       "    </tr>\n",
       "    <tr>\n",
       "      <th>1</th>\n",
       "      <td>10.34</td>\n",
       "      <td>1.66</td>\n",
       "      <td>Male</td>\n",
       "      <td>No</td>\n",
       "      <td>Sun</td>\n",
       "      <td>Dinner</td>\n",
       "      <td>3</td>\n",
       "    </tr>\n",
       "    <tr>\n",
       "      <th>2</th>\n",
       "      <td>21.01</td>\n",
       "      <td>3.50</td>\n",
       "      <td>Male</td>\n",
       "      <td>No</td>\n",
       "      <td>Sun</td>\n",
       "      <td>Dinner</td>\n",
       "      <td>3</td>\n",
       "    </tr>\n",
       "    <tr>\n",
       "      <th>3</th>\n",
       "      <td>23.68</td>\n",
       "      <td>3.31</td>\n",
       "      <td>Male</td>\n",
       "      <td>No</td>\n",
       "      <td>Sun</td>\n",
       "      <td>Dinner</td>\n",
       "      <td>2</td>\n",
       "    </tr>\n",
       "    <tr>\n",
       "      <th>4</th>\n",
       "      <td>24.59</td>\n",
       "      <td>3.61</td>\n",
       "      <td>Female</td>\n",
       "      <td>No</td>\n",
       "      <td>Sun</td>\n",
       "      <td>Dinner</td>\n",
       "      <td>4</td>\n",
       "    </tr>\n",
       "  </tbody>\n",
       "</table>\n",
       "</div>"
      ],
      "text/plain": [
       "   total_bill   tip     sex smoker  day    time  size\n",
       "0       16.99  1.01  Female     No  Sun  Dinner     2\n",
       "1       10.34  1.66    Male     No  Sun  Dinner     3\n",
       "2       21.01  3.50    Male     No  Sun  Dinner     3\n",
       "3       23.68  3.31    Male     No  Sun  Dinner     2\n",
       "4       24.59  3.61  Female     No  Sun  Dinner     4"
      ]
     },
     "execution_count": 27,
     "metadata": {},
     "output_type": "execute_result"
    }
   ],
   "source": [
    "import seaborn as sns\n",
    "tips = sns.load_dataset(\"tips\")\n",
    "df = tips.copy()\n",
    "df.head()"
   ]
  },
  {
   "cell_type": "code",
   "execution_count": 28,
   "id": "d8959200-5940-401e-9721-f4a0e3e7acd3",
   "metadata": {},
   "outputs": [
    {
     "data": {
      "text/html": [
       "<div>\n",
       "<style scoped>\n",
       "    .dataframe tbody tr th:only-of-type {\n",
       "        vertical-align: middle;\n",
       "    }\n",
       "\n",
       "    .dataframe tbody tr th {\n",
       "        vertical-align: top;\n",
       "    }\n",
       "\n",
       "    .dataframe thead th {\n",
       "        text-align: right;\n",
       "    }\n",
       "</style>\n",
       "<table border=\"1\" class=\"dataframe\">\n",
       "  <thead>\n",
       "    <tr style=\"text-align: right;\">\n",
       "      <th></th>\n",
       "      <th>count</th>\n",
       "      <th>mean</th>\n",
       "      <th>std</th>\n",
       "      <th>min</th>\n",
       "      <th>25%</th>\n",
       "      <th>50%</th>\n",
       "      <th>75%</th>\n",
       "      <th>max</th>\n",
       "    </tr>\n",
       "  </thead>\n",
       "  <tbody>\n",
       "    <tr>\n",
       "      <th>total_bill</th>\n",
       "      <td>244.0</td>\n",
       "      <td>19.785943</td>\n",
       "      <td>8.902412</td>\n",
       "      <td>3.07</td>\n",
       "      <td>13.3475</td>\n",
       "      <td>17.795</td>\n",
       "      <td>24.1275</td>\n",
       "      <td>50.81</td>\n",
       "    </tr>\n",
       "    <tr>\n",
       "      <th>tip</th>\n",
       "      <td>244.0</td>\n",
       "      <td>2.998279</td>\n",
       "      <td>1.383638</td>\n",
       "      <td>1.00</td>\n",
       "      <td>2.0000</td>\n",
       "      <td>2.900</td>\n",
       "      <td>3.5625</td>\n",
       "      <td>10.00</td>\n",
       "    </tr>\n",
       "    <tr>\n",
       "      <th>size</th>\n",
       "      <td>244.0</td>\n",
       "      <td>2.569672</td>\n",
       "      <td>0.951100</td>\n",
       "      <td>1.00</td>\n",
       "      <td>2.0000</td>\n",
       "      <td>2.000</td>\n",
       "      <td>3.0000</td>\n",
       "      <td>6.00</td>\n",
       "    </tr>\n",
       "  </tbody>\n",
       "</table>\n",
       "</div>"
      ],
      "text/plain": [
       "            count       mean       std   min      25%     50%      75%    max\n",
       "total_bill  244.0  19.785943  8.902412  3.07  13.3475  17.795  24.1275  50.81\n",
       "tip         244.0   2.998279  1.383638  1.00   2.0000   2.900   3.5625  10.00\n",
       "size        244.0   2.569672  0.951100  1.00   2.0000   2.000   3.0000   6.00"
      ]
     },
     "execution_count": 28,
     "metadata": {},
     "output_type": "execute_result"
    }
   ],
   "source": [
    "df.describe().T"
   ]
  },
  {
   "cell_type": "code",
   "execution_count": 29,
   "id": "40f61234-2c45-4414-a755-6d6eb3e041a9",
   "metadata": {
    "collapsed": true,
    "jupyter": {
     "outputs_hidden": true
    },
    "tags": []
   },
   "outputs": [
    {
     "name": "stdout",
     "output_type": "stream",
     "text": [
      "Collecting researchpy\n",
      "  Downloading researchpy-0.3.2-py3-none-any.whl (15 kB)\n",
      "Requirement already satisfied: statsmodels in /opt/anaconda3/lib/python3.9/site-packages (from researchpy) (0.12.2)\n",
      "Requirement already satisfied: scipy in /opt/anaconda3/lib/python3.9/site-packages (from researchpy) (1.7.1)\n",
      "Requirement already satisfied: numpy in /opt/anaconda3/lib/python3.9/site-packages (from researchpy) (1.20.3)\n",
      "Requirement already satisfied: patsy in /opt/anaconda3/lib/python3.9/site-packages (from researchpy) (0.5.2)\n",
      "Requirement already satisfied: pandas in /opt/anaconda3/lib/python3.9/site-packages (from researchpy) (1.3.4)\n",
      "Requirement already satisfied: python-dateutil>=2.7.3 in /opt/anaconda3/lib/python3.9/site-packages (from pandas->researchpy) (2.8.2)\n",
      "Requirement already satisfied: pytz>=2017.3 in /opt/anaconda3/lib/python3.9/site-packages (from pandas->researchpy) (2021.3)\n",
      "Requirement already satisfied: six>=1.5 in /opt/anaconda3/lib/python3.9/site-packages (from python-dateutil>=2.7.3->pandas->researchpy) (1.16.0)\n",
      "Installing collected packages: researchpy\n",
      "Successfully installed researchpy-0.3.2\n"
     ]
    }
   ],
   "source": [
    "!pip install researchpy\n",
    "import researchpy as rp"
   ]
  },
  {
   "cell_type": "code",
   "execution_count": 35,
   "id": "24c30c0a-1e38-4c5f-b0d1-84a3f9f4ac16",
   "metadata": {},
   "outputs": [
    {
     "name": "stdout",
     "output_type": "stream",
     "text": [
      "\n",
      "\n"
     ]
    },
    {
     "data": {
      "text/html": [
       "<div>\n",
       "<style scoped>\n",
       "    .dataframe tbody tr th:only-of-type {\n",
       "        vertical-align: middle;\n",
       "    }\n",
       "\n",
       "    .dataframe tbody tr th {\n",
       "        vertical-align: top;\n",
       "    }\n",
       "\n",
       "    .dataframe thead th {\n",
       "        text-align: right;\n",
       "    }\n",
       "</style>\n",
       "<table border=\"1\" class=\"dataframe\">\n",
       "  <thead>\n",
       "    <tr style=\"text-align: right;\">\n",
       "      <th></th>\n",
       "      <th>Variable</th>\n",
       "      <th>N</th>\n",
       "      <th>Mean</th>\n",
       "      <th>SD</th>\n",
       "      <th>SE</th>\n",
       "      <th>95% Conf.</th>\n",
       "      <th>Interval</th>\n",
       "    </tr>\n",
       "  </thead>\n",
       "  <tbody>\n",
       "    <tr>\n",
       "      <th>0</th>\n",
       "      <td>total_bill</td>\n",
       "      <td>244.0</td>\n",
       "      <td>19.7859</td>\n",
       "      <td>8.9024</td>\n",
       "      <td>0.5699</td>\n",
       "      <td>18.6633</td>\n",
       "      <td>20.9086</td>\n",
       "    </tr>\n",
       "    <tr>\n",
       "      <th>1</th>\n",
       "      <td>tip</td>\n",
       "      <td>244.0</td>\n",
       "      <td>2.9983</td>\n",
       "      <td>1.3836</td>\n",
       "      <td>0.0886</td>\n",
       "      <td>2.8238</td>\n",
       "      <td>3.1728</td>\n",
       "    </tr>\n",
       "    <tr>\n",
       "      <th>2</th>\n",
       "      <td>size</td>\n",
       "      <td>244.0</td>\n",
       "      <td>2.5697</td>\n",
       "      <td>0.9511</td>\n",
       "      <td>0.0609</td>\n",
       "      <td>2.4497</td>\n",
       "      <td>2.6896</td>\n",
       "    </tr>\n",
       "  </tbody>\n",
       "</table>\n",
       "</div>"
      ],
      "text/plain": [
       "     Variable      N     Mean      SD      SE  95% Conf.  Interval\n",
       "0  total_bill  244.0  19.7859  8.9024  0.5699    18.6633   20.9086\n",
       "1         tip  244.0   2.9983  1.3836  0.0886     2.8238    3.1728\n",
       "2        size  244.0   2.5697  0.9511  0.0609     2.4497    2.6896"
      ]
     },
     "execution_count": 35,
     "metadata": {},
     "output_type": "execute_result"
    }
   ],
   "source": [
    "rp.summary_cont(df[[\"total_bill\",\"tip\",\"size\"]])"
   ]
  },
  {
   "cell_type": "code",
   "execution_count": 36,
   "id": "c7258bdb-ea38-4c23-8c7a-27dc6dd30228",
   "metadata": {},
   "outputs": [
    {
     "data": {
      "text/html": [
       "<div>\n",
       "<style scoped>\n",
       "    .dataframe tbody tr th:only-of-type {\n",
       "        vertical-align: middle;\n",
       "    }\n",
       "\n",
       "    .dataframe tbody tr th {\n",
       "        vertical-align: top;\n",
       "    }\n",
       "\n",
       "    .dataframe thead th {\n",
       "        text-align: right;\n",
       "    }\n",
       "</style>\n",
       "<table border=\"1\" class=\"dataframe\">\n",
       "  <thead>\n",
       "    <tr style=\"text-align: right;\">\n",
       "      <th></th>\n",
       "      <th>Variable</th>\n",
       "      <th>Outcome</th>\n",
       "      <th>Count</th>\n",
       "      <th>Percent</th>\n",
       "    </tr>\n",
       "  </thead>\n",
       "  <tbody>\n",
       "    <tr>\n",
       "      <th>0</th>\n",
       "      <td>sex</td>\n",
       "      <td>Male</td>\n",
       "      <td>157</td>\n",
       "      <td>64.34</td>\n",
       "    </tr>\n",
       "    <tr>\n",
       "      <th>1</th>\n",
       "      <td></td>\n",
       "      <td>Female</td>\n",
       "      <td>87</td>\n",
       "      <td>35.66</td>\n",
       "    </tr>\n",
       "    <tr>\n",
       "      <th>2</th>\n",
       "      <td>smoker</td>\n",
       "      <td>No</td>\n",
       "      <td>151</td>\n",
       "      <td>61.89</td>\n",
       "    </tr>\n",
       "    <tr>\n",
       "      <th>3</th>\n",
       "      <td></td>\n",
       "      <td>Yes</td>\n",
       "      <td>93</td>\n",
       "      <td>38.11</td>\n",
       "    </tr>\n",
       "    <tr>\n",
       "      <th>4</th>\n",
       "      <td>day</td>\n",
       "      <td>Sat</td>\n",
       "      <td>87</td>\n",
       "      <td>35.66</td>\n",
       "    </tr>\n",
       "    <tr>\n",
       "      <th>5</th>\n",
       "      <td></td>\n",
       "      <td>Sun</td>\n",
       "      <td>76</td>\n",
       "      <td>31.15</td>\n",
       "    </tr>\n",
       "    <tr>\n",
       "      <th>6</th>\n",
       "      <td></td>\n",
       "      <td>Thur</td>\n",
       "      <td>62</td>\n",
       "      <td>25.41</td>\n",
       "    </tr>\n",
       "    <tr>\n",
       "      <th>7</th>\n",
       "      <td></td>\n",
       "      <td>Fri</td>\n",
       "      <td>19</td>\n",
       "      <td>7.79</td>\n",
       "    </tr>\n",
       "  </tbody>\n",
       "</table>\n",
       "</div>"
      ],
      "text/plain": [
       "  Variable Outcome  Count  Percent\n",
       "0      sex    Male    157    64.34\n",
       "1           Female     87    35.66\n",
       "2   smoker      No    151    61.89\n",
       "3              Yes     93    38.11\n",
       "4      day     Sat     87    35.66\n",
       "5              Sun     76    31.15\n",
       "6             Thur     62    25.41\n",
       "7              Fri     19     7.79"
      ]
     },
     "execution_count": 36,
     "metadata": {},
     "output_type": "execute_result"
    }
   ],
   "source": [
    "rp.summary_cat(df[[\"sex\",\"smoker\",\"day\"]])"
   ]
  },
  {
   "cell_type": "code",
   "execution_count": 37,
   "id": "5bc7e47f-d386-4f34-8c16-ce39f058fd61",
   "metadata": {},
   "outputs": [
    {
     "data": {
      "text/html": [
       "<div>\n",
       "<style scoped>\n",
       "    .dataframe tbody tr th:only-of-type {\n",
       "        vertical-align: middle;\n",
       "    }\n",
       "\n",
       "    .dataframe tbody tr th {\n",
       "        vertical-align: top;\n",
       "    }\n",
       "\n",
       "    .dataframe thead th {\n",
       "        text-align: right;\n",
       "    }\n",
       "</style>\n",
       "<table border=\"1\" class=\"dataframe\">\n",
       "  <thead>\n",
       "    <tr style=\"text-align: right;\">\n",
       "      <th></th>\n",
       "      <th>tip</th>\n",
       "      <th>total_bill</th>\n",
       "    </tr>\n",
       "  </thead>\n",
       "  <tbody>\n",
       "    <tr>\n",
       "      <th>tip</th>\n",
       "      <td>1.914455</td>\n",
       "      <td>8.323502</td>\n",
       "    </tr>\n",
       "    <tr>\n",
       "      <th>total_bill</th>\n",
       "      <td>8.323502</td>\n",
       "      <td>79.252939</td>\n",
       "    </tr>\n",
       "  </tbody>\n",
       "</table>\n",
       "</div>"
      ],
      "text/plain": [
       "                 tip  total_bill\n",
       "tip         1.914455    8.323502\n",
       "total_bill  8.323502   79.252939"
      ]
     },
     "execution_count": 37,
     "metadata": {},
     "output_type": "execute_result"
    }
   ],
   "source": [
    "df[[\"tip\",\"total_bill\"]].cov()"
   ]
  },
  {
   "cell_type": "code",
   "execution_count": 38,
   "id": "e805508e-b4e3-4975-9df4-8fff5f0e777c",
   "metadata": {},
   "outputs": [
    {
     "data": {
      "text/html": [
       "<div>\n",
       "<style scoped>\n",
       "    .dataframe tbody tr th:only-of-type {\n",
       "        vertical-align: middle;\n",
       "    }\n",
       "\n",
       "    .dataframe tbody tr th {\n",
       "        vertical-align: top;\n",
       "    }\n",
       "\n",
       "    .dataframe thead th {\n",
       "        text-align: right;\n",
       "    }\n",
       "</style>\n",
       "<table border=\"1\" class=\"dataframe\">\n",
       "  <thead>\n",
       "    <tr style=\"text-align: right;\">\n",
       "      <th></th>\n",
       "      <th>tip</th>\n",
       "      <th>total_bill</th>\n",
       "    </tr>\n",
       "  </thead>\n",
       "  <tbody>\n",
       "    <tr>\n",
       "      <th>tip</th>\n",
       "      <td>1.000000</td>\n",
       "      <td>0.675734</td>\n",
       "    </tr>\n",
       "    <tr>\n",
       "      <th>total_bill</th>\n",
       "      <td>0.675734</td>\n",
       "      <td>1.000000</td>\n",
       "    </tr>\n",
       "  </tbody>\n",
       "</table>\n",
       "</div>"
      ],
      "text/plain": [
       "                 tip  total_bill\n",
       "tip         1.000000    0.675734\n",
       "total_bill  0.675734    1.000000"
      ]
     },
     "execution_count": 38,
     "metadata": {},
     "output_type": "execute_result"
    }
   ],
   "source": [
    "df[[\"tip\",\"total_bill\"]].corr()"
   ]
  },
  {
   "cell_type": "markdown",
   "id": "2d773037-d767-42ae-87cd-1c4656345c61",
   "metadata": {},
   "source": [
    "## Güven Aralığı"
   ]
  },
  {
   "cell_type": "markdown",
   "id": "532246a1-375a-4ad0-b845-bf75cbdce2dc",
   "metadata": {},
   "source": [
    "**Güven Aralığı Nedir**: Anakütle parametresinin tahmini değerini kapsayabilecek iki sayıdan oluşan bir aralık bulunmasıdır.\n",
    "* Ortalama etrafında %95 güvenirlilik ile bu ortalama buradadır.\n",
    "* Bilimsel anlamda belirli bir yanılma payıyla -ki o %5 oluyor- değerlerin nerede olabileceğini sunmuş oluyor."
   ]
  },
  {
   "cell_type": "markdown",
   "id": "1298217d-5abf-4600-918b-565387c04519",
   "metadata": {},
   "source": [
    "**Güven Aralığı Nasıl Hesaplanır?**"
   ]
  },
  {
   "cell_type": "markdown",
   "id": "17989a90-149f-48de-b2aa-b8b1efb9c383",
   "metadata": {},
   "source": [
    "* **Adım 1:** n, ortalama ve standart sapmayı bul\n",
    "* n = 100, ortalama = 180, standart sapma = 40"
   ]
  },
  {
   "cell_type": "markdown",
   "id": "abc0cfc9-8353-477f-ac16-85ff25b9ebf5",
   "metadata": {},
   "source": [
    "* **Adım 2:** Güven aralığına karar ver: 95 mi 99 mu?(%95 ön tanımlı olarak kabul edilir.)\n",
    "* Z tablo değerini hesapla (1,96 - 2,57)"
   ]
  },
  {
   "cell_type": "markdown",
   "id": "811c3f91-9830-4753-a535-3dc5acc518e9",
   "metadata": {},
   "source": [
    "* **Adım 3:** Yukarıdaki değerleri kullanarak güven aralığını hesapla:\n",
    "* ortalama +- z (s/sqrt(n)) = 180 +- 1,96 * (40/sqrt(100))"
   ]
  },
  {
   "cell_type": "markdown",
   "id": "78b496bb-3d76-4dcf-bfda-f1d92285f51c",
   "metadata": {},
   "source": [
    "* **Sonuç:** 180 +- 7,84 yani 172 ile 188 arasıdır."
   ]
  },
  {
   "cell_type": "markdown",
   "id": "80c5b75f-6a6b-4e04-a53c-bf9bbd8003a9",
   "metadata": {},
   "source": [
    "# İş Uygulaması: Fiyat Stratejisi Karar Destek Sistemi"
   ]
  },
  {
   "cell_type": "markdown",
   "id": "31c6dfc7-5a10-4eae-89bf-c086902a1ef7",
   "metadata": {},
   "source": [
    "* Problem: \n",
    "    * CEO fiyat belirleme konusunda bilimsel bir dayanak ve        esneklik     istiyor.\n",
    "* Detaylar:\n",
    "   * Satıcı, alıcı ve bir ürün var.\n",
    "   * Alıcılara ürüne ne kadar ücret öderdiniz diye soruluyor\n",
    "   * Optimum fiyat bilimsel ve esnek olarak bulunmak isteniyor"
   ]
  },
  {
   "cell_type": "code",
   "execution_count": 51,
   "id": "6b2a0e17-de76-4315-86d9-5f195e9373d5",
   "metadata": {},
   "outputs": [],
   "source": [
    "import numpy as np\n",
    "fiyatlar = np.random.randint(10,110, 1000)"
   ]
  },
  {
   "cell_type": "code",
   "execution_count": 52,
   "id": "a3144f8e-1f7d-4fcb-a179-de12b533c256",
   "metadata": {},
   "outputs": [
    {
     "data": {
      "text/plain": [
       "59.472"
      ]
     },
     "execution_count": 52,
     "metadata": {},
     "output_type": "execute_result"
    }
   ],
   "source": [
    "fiyatlar.mean()"
   ]
  },
  {
   "cell_type": "code",
   "execution_count": 53,
   "id": "41bb43a8-0aa0-4699-958d-dce6236bfd0a",
   "metadata": {},
   "outputs": [],
   "source": [
    "import statsmodels.stats.api as sms"
   ]
  },
  {
   "cell_type": "code",
   "execution_count": 54,
   "id": "b09506b1-2a17-44e3-a3ba-40f2557ed150",
   "metadata": {},
   "outputs": [
    {
     "data": {
      "text/plain": [
       "(57.66944543697184, 61.27455456302816)"
      ]
     },
     "execution_count": 54,
     "metadata": {},
     "output_type": "execute_result"
    }
   ],
   "source": [
    "sms.DescrStatsW(fiyatlar).tconfint_mean()"
   ]
  },
  {
   "cell_type": "markdown",
   "id": "a2372bd2-7253-4cf3-9d71-fae4d855a5ec",
   "metadata": {},
   "source": [
    "# Bernoulli Dağılımı"
   ]
  },
  {
   "cell_type": "markdown",
   "id": "d280ef90-4bc9-483f-bf2d-a7fc426bcc18",
   "metadata": {},
   "source": [
    "**Başarılı-Başarısız, olumlu-olumsuz şeklinde iki sonuçlu olaylar ile ilgilenildiğinde kullanılan kesikli olasılık dağılımıdır.**"
   ]
  },
  {
   "cell_type": "markdown",
   "id": "c47c19c3-2858-472f-b33a-ce3bf0bfd574",
   "metadata": {},
   "source": [
    "${\\displaystyle f(k;p)=p^{k}(1-p)^{1-k}\\quad {\\text{for }}k\\in \\{0,1\\}}$\n",
    "\n",
    "\n",
    "${\\displaystyle \\operatorname {E} \\left(X\\right)=p}$\n",
    "\n",
    "$\\operatorname {Var} [X]=pq=p(1-p)$"
   ]
  },
  {
   "cell_type": "code",
   "execution_count": 1,
   "id": "f9595ac6-8b47-4617-ad4b-865dd93424e2",
   "metadata": {},
   "outputs": [],
   "source": [
    "from scipy.stats import bernoulli"
   ]
  },
  {
   "cell_type": "code",
   "execution_count": 2,
   "id": "ddfe8e15-5599-4f80-95d4-c426c1ec33f7",
   "metadata": {},
   "outputs": [],
   "source": [
    "p = 0.6"
   ]
  },
  {
   "cell_type": "code",
   "execution_count": 4,
   "id": "23e72b3b-8eff-4d9f-907f-f847deb29082",
   "metadata": {},
   "outputs": [
    {
     "data": {
      "text/plain": [
       "0.4"
      ]
     },
     "execution_count": 4,
     "metadata": {},
     "output_type": "execute_result"
    }
   ],
   "source": [
    "rv = bernoulli(p)\n",
    "rv.pmf(k = 0)"
   ]
  },
  {
   "cell_type": "code",
   "execution_count": 6,
   "id": "412f0f94-9c56-4c94-8095-ed9e29518b31",
   "metadata": {},
   "outputs": [
    {
     "data": {
      "text/plain": [
       "0.6"
      ]
     },
     "execution_count": 6,
     "metadata": {},
     "output_type": "execute_result"
    }
   ],
   "source": [
    "rv.pmf(k = 1)"
   ]
  },
  {
   "cell_type": "markdown",
   "id": "a6cf3bb7-762d-4570-a6ef-a9264f6ea33c",
   "metadata": {},
   "source": [
    "# Büyük Sayılar Yasası"
   ]
  },
  {
   "cell_type": "markdown",
   "id": "2d5a76ce-19ad-488e-aabf-db92b4e61290",
   "metadata": {},
   "source": [
    "**Bir rassal değişkenin uzun vadeli kararlılığını tanımlayan olasılık teoremidir.**"
   ]
  },
  {
   "cell_type": "code",
   "execution_count": 7,
   "id": "85efbb6f-e823-4b4c-9f88-abe4c11dd080",
   "metadata": {
    "tags": []
   },
   "outputs": [
    {
     "name": "stdout",
     "output_type": "stream",
     "text": [
      "Atış Sayısı: 2 --- Yazı Olasılığı: 50.00\n",
      "Atış Sayısı: 4 --- Yazı Olasılığı: 0.00\n",
      "Atış Sayısı: 8 --- Yazı Olasılığı: 62.50\n",
      "Atış Sayısı: 16 --- Yazı Olasılığı: 43.75\n",
      "Atış Sayısı: 32 --- Yazı Olasılığı: 46.88\n",
      "Atış Sayısı: 64 --- Yazı Olasılığı: 56.25\n",
      "Atış Sayısı: 128 --- Yazı Olasılığı: 50.78\n",
      "Atış Sayısı: 256 --- Yazı Olasılığı: 52.73\n",
      "Atış Sayısı: 512 --- Yazı Olasılığı: 52.93\n",
      "Atış Sayısı: 1024 --- Yazı Olasılığı: 50.20\n",
      "Atış Sayısı: 2048 --- Yazı Olasılığı: 48.58\n",
      "Atış Sayısı: 4096 --- Yazı Olasılığı: 49.49\n",
      "Atış Sayısı: 8192 --- Yazı Olasılığı: 49.58\n",
      "Atış Sayısı: 16384 --- Yazı Olasılığı: 49.96\n",
      "Atış Sayısı: 32768 --- Yazı Olasılığı: 50.00\n",
      "Atış Sayısı: 65536 --- Yazı Olasılığı: 49.68\n",
      "Atış Sayısı: 131072 --- Yazı Olasılığı: 49.97\n",
      "Atış Sayısı: 262144 --- Yazı Olasılığı: 50.13\n",
      "Atış Sayısı: 524288 --- Yazı Olasılığı: 50.01\n",
      "Atış Sayısı: 1048576 --- Yazı Olasılığı: 50.09\n"
     ]
    }
   ],
   "source": [
    "import numpy as np\n",
    "rng = np.random.RandomState(123)\n",
    "for i in np.arange(1,21):\n",
    "    deney_sayisi = 2**i\n",
    "    yazi_turalar = rng.randint(0, 2, size = deney_sayisi)\n",
    "    yazi_olasiliklari = np.mean(yazi_turalar)\n",
    "    print(\"Atış Sayısı:\",deney_sayisi,\"---\",'Yazı Olasılığı: %.2f' % (yazi_olasiliklari * 100))"
   ]
  },
  {
   "cell_type": "markdown",
   "id": "8375f3ca-ce14-4a8f-961e-3652543e4853",
   "metadata": {},
   "source": [
    "# Binom Dağılımı"
   ]
  },
  {
   "cell_type": "markdown",
   "id": "08193207-6524-4a17-9995-1caf970d5229",
   "metadata": {},
   "source": [
    "**Binom dağılımı, bağımsız n deneme sonucu k başarılı olma olasılığı ile ilgilenildiğinde kullanılan dağılımdır.**"
   ]
  },
  {
   "cell_type": "markdown",
   "id": "4a833bc4-4d15-4a06-a51a-db956fe393d0",
   "metadata": {},
   "source": [
    "${\\displaystyle f(k;n,p)={n \\choose k}p^{k}(1-p)^{n-k}}$, k = 0, 1, 2, ...,n\n",
    "\n",
    "\n",
    "${\\displaystyle \\operatorname {E} (X)=np}$\n",
    "\n",
    "\n",
    "${\\displaystyle \\operatorname {Var} (X)=np(1-p)}$"
   ]
  },
  {
   "cell_type": "markdown",
   "id": "143a304d-2737-4c00-9e56-d4cf1ab8ddf5",
   "metadata": {},
   "source": [
    "## İş Uygulaması: Reklam Harcaması Optimizasyonu"
   ]
  },
  {
   "cell_type": "markdown",
   "id": "74d46f9c-ade7-4e83-89d9-4aeab4c6f5da",
   "metadata": {},
   "source": [
    "* Problem:\n",
    "      Çeşitli mecralara reklam veriliyor, reklamların tıklanma ve geri dönüşüm oranları optimize edilmeye çalışılıyor. Buna yönelik olarak belirli bir mecrada çeşitli senaryolara göre reklama tıklama olasılıkları hesaplanmak isteniyor."
   ]
  },
  {
   "cell_type": "markdown",
   "id": "89ce196c-dbce-4876-87e6-747cab7b06b5",
   "metadata": {},
   "source": [
    "* Detaylar:\n",
    "     * Bir mecrada reklam verilecek\n",
    "     * Dağılım ve reklama tıklama olasılığı biliniyor(0.01)\n",
    "     * **Soru:** Reklamı 100 kişi gördüğünde 1,5,10 tıklanması olasılığı nedir?"
   ]
  },
  {
   "cell_type": "markdown",
   "id": "095bd2a6-2e11-4fce-ba8b-1f4ed2fa83df",
   "metadata": {},
   "source": [
    "**Sonuç:** \n",
    "* f(1;100,0.01) =(100,1)0.01^(2)(1-0.01)^(100-1) = 0.37 \n",
    "* f(5) = 0.00289779\n",
    "* f(10) = 0.00000007"
   ]
  },
  {
   "cell_type": "code",
   "execution_count": 9,
   "id": "f47cd512-8589-4a67-94d4-3d3c11849630",
   "metadata": {},
   "outputs": [],
   "source": [
    "from scipy.stats import binom"
   ]
  },
  {
   "cell_type": "code",
   "execution_count": 10,
   "id": "5bc305b6-4caa-4fae-bcbb-fc1860fa80c9",
   "metadata": {},
   "outputs": [
    {
     "name": "stdout",
     "output_type": "stream",
     "text": [
      "0.36972963764972666\n",
      "0.002897787123761478\n",
      "7.006035693977194e-08\n"
     ]
    }
   ],
   "source": [
    "p = 0.01\n",
    "n = 100\n",
    "rv = binom(n , p)\n",
    "print(rv.pmf(1))\n",
    "print(rv.pmf(5))\n",
    "print(rv.pmf(10))"
   ]
  },
  {
   "cell_type": "markdown",
   "id": "26bf8f79-ddc0-41b3-abce-f02c59130f75",
   "metadata": {},
   "source": [
    "# Poisson Dağılımı"
   ]
  },
  {
   "cell_type": "markdown",
   "id": "3c14ca32-754f-492c-9572-d8a71f73e00a",
   "metadata": {},
   "source": [
    "**Belirli bir zaman aralığında belirli bir alanda nadiren rastlana olayların olasıklıklarını hesaplamak için kullanılır.**"
   ]
  },
  {
   "cell_type": "markdown",
   "id": "faa6161f-83e9-4eb9-b6b1-05ec28e07bde",
   "metadata": {},
   "source": [
    "${\\displaystyle f(x,\\lambda )={\\frac {\\lambda ^{x}e^{-\\lambda }}{x!}}\\,\\!}$,  \n",
    "* x = 0,1,2,...,n\n",
    "* x = Olayların ortaya çıkma sayısı\n",
    "* n > 50 , n * p < 5 => Nadir Olay\n",
    "* Rassal denemeler iki sonuçlu olmalı\n",
    "* Aynı koşullar altında gerçekleştirilmelidir\n",
    "* Rasal denemeler birbirinden bağımsız olmalıdır"
   ]
  },
  {
   "cell_type": "markdown",
   "id": "fbf62e05-4af5-4684-96b8-5f49f347ebec",
   "metadata": {},
   "source": [
    " * Olaylar:\n",
    "     * 10 Bin kelimeden oluşan bir kitapta hatalı kelime sayısı\n",
    "     * 4000 öğrencili okulda not girişinde hata yapılması\n",
    "     * Bir iş gününde çağrı merkezine gelen taktir sayısı\n",
    "     * Kredi kartı işlemlerinde sahtekarlık yapılması\n",
    "     * Rötara düşen uçuş sefer sayısı"
   ]
  },
  {
   "cell_type": "markdown",
   "id": "8141c6a6-8194-4332-ad3b-fbf0446a0534",
   "metadata": {},
   "source": [
    "## İş Uygulaması: İlan Girişi Hata Olasılıklarının Hesaplanması\n",
    "* Problem:\n",
    "    Hatalı İlan girişi olasılıkları hesaplanmak isteniyor.\n",
    "* Detaylar:\n",
    "    * Bir yıl süresince ölçümler yapılıyor.\n",
    "    * Dağılım biliniyor(Poisson) ve Lambda 0.1 (ortalama hata sayısı)\n",
    "    * Hiç hata olmaması, 3 hata olması ve 5 hata olması olasılıkları nedir?"
   ]
  },
  {
   "cell_type": "code",
   "execution_count": 12,
   "id": "149d9414-252c-426f-ba19-282b8580a3b9",
   "metadata": {},
   "outputs": [],
   "source": [
    "from scipy.stats import poisson "
   ]
  },
  {
   "cell_type": "code",
   "execution_count": 13,
   "id": "0c34ed52-7389-4d43-bddd-ae1d78200c71",
   "metadata": {},
   "outputs": [],
   "source": [
    "lambda_ = 0.1"
   ]
  },
  {
   "cell_type": "code",
   "execution_count": 15,
   "id": "a9e51d61-cef7-44ad-9ab8-1a23ad8c3739",
   "metadata": {},
   "outputs": [
    {
     "name": "stdout",
     "output_type": "stream",
     "text": [
      "0.9048374180359595\n",
      "0.00015080623633932676\n",
      "7.54031181696634e-08\n"
     ]
    }
   ],
   "source": [
    "rv = poisson(mu = lambda_)\n",
    "print(rv.pmf(k = 0))\n",
    "print(rv.pmf(k = 3))\n",
    "print(rv.pmf(k = 5))"
   ]
  },
  {
   "cell_type": "markdown",
   "id": "46c73006-29de-4950-a132-1ca5218260c1",
   "metadata": {},
   "source": [
    "# Normal Dağılım"
   ]
  },
  {
   "cell_type": "markdown",
   "id": "988f5dc3-bcfe-400f-bbee-6d70f469e114",
   "metadata": {},
   "source": [
    "**Normal dağıldığı bilinen sürekli rassal değişkenler için olasılık hesaplanması için kullanılır**"
   ]
  },
  {
   "cell_type": "markdown",
   "id": "77dc8729-62bc-44b7-92df-08c03c096096",
   "metadata": {},
   "source": [
    "${\\displaystyle f(x\\mid \\mu ,\\sigma ^{2})={\\frac {1}{\\sqrt {2\\pi \\sigma ^{2}}}}e^{-{\\frac {(x-\\mu )^{2}}{2\\sigma ^{2}}}}}$\n",
    "\n",
    "* $\\mu$  ortalama ya da dağılımın beklenen değeri\n",
    "\n",
    "* ${\\displaystyle \\sigma }$  standart sapma\n",
    "\n",
    "* ${\\displaystyle \\sigma ^{2}}$ varyans"
   ]
  },
  {
   "cell_type": "markdown",
   "id": "875e8be4-afc4-4126-9546-e584d83f6889",
   "metadata": {},
   "source": [
    "## İş Uygulaması: Ürün Satış Olasılıklarının Hesaplanması"
   ]
  },
  {
   "cell_type": "markdown",
   "id": "5b7875ea-d84f-4eff-846c-31f557dcb404",
   "metadata": {},
   "source": [
    "* Problem:\n",
    "    * Bir Yatırım/toplantı öncesinde gelecek ay ile ilgili satışların  belirli değerlerde gerçekleşmesi olasılıkları belirlenmek isteniyor.\n",
    "* Detaylar:\n",
    "    * Dağılımın normal oldupu biliniyor\n",
    "    * Aylık ortama satış sayısı 80K, standart sapması 5K\n",
    "    * 90K'dan fazla satış yapma olasılığı nedir?"
   ]
  },
  {
   "cell_type": "code",
   "execution_count": 16,
   "id": "12566f1c-bbca-47e6-a04e-7c4e85f3252a",
   "metadata": {},
   "outputs": [],
   "source": [
    "from scipy.stats import norm"
   ]
  },
  {
   "cell_type": "code",
   "execution_count": 21,
   "id": "6570183b-e48d-443d-ba3c-02546667c0d9",
   "metadata": {},
   "outputs": [
    {
     "data": {
      "text/plain": [
       "0.02275013194817921"
      ]
     },
     "execution_count": 21,
     "metadata": {},
     "output_type": "execute_result"
    }
   ],
   "source": [
    "#90'dan fazla olması\n",
    "1-norm.cdf(90,80,5)"
   ]
  },
  {
   "cell_type": "code",
   "execution_count": 22,
   "id": "861fff09-fef0-4737-8c15-46c89fed7fe0",
   "metadata": {},
   "outputs": [
    {
     "data": {
      "text/plain": [
       "0.9772498680518208"
      ]
     },
     "execution_count": 22,
     "metadata": {},
     "output_type": "execute_result"
    }
   ],
   "source": [
    "#70'den fazla olması\n",
    "1 - norm.cdf(70,80,5)"
   ]
  },
  {
   "cell_type": "code",
   "execution_count": 24,
   "id": "5ad97501-716b-4b74-a14f-b892554cbf77",
   "metadata": {},
   "outputs": [
    {
     "data": {
      "text/plain": [
       "0.08075665923377107"
      ]
     },
     "execution_count": 24,
     "metadata": {},
     "output_type": "execute_result"
    }
   ],
   "source": [
    "#73'den az olması\n",
    "norm.cdf(73,80,5)"
   ]
  },
  {
   "cell_type": "code",
   "execution_count": 25,
   "id": "182d1e24-d517-4be8-93b6-fe828d7a8ccd",
   "metadata": {},
   "outputs": [
    {
     "data": {
      "text/plain": [
       "0.13590512198327787"
      ]
     },
     "execution_count": 25,
     "metadata": {},
     "output_type": "execute_result"
    }
   ],
   "source": [
    "#85 ile 90 arasında olması\n",
    "norm.cdf(90,80,5)-norm.cdf(85,80,5)"
   ]
  },
  {
   "cell_type": "markdown",
   "id": "c1bb3509-1f2a-433e-a1cc-3d334de1c57a",
   "metadata": {},
   "source": [
    "## 1. Belirsizlik altında karar vermeye çalışmak \n",
    "## 2. Uygun olasılık fonksiyonları ile olasılık hesapları yapıyoruz."
   ]
  },
  {
   "cell_type": "markdown",
   "id": "81b03c97-0ddd-4126-b6cf-6f16d1a2ce82",
   "metadata": {},
   "source": [
    "# Hipotez Testi Nedir?"
   ]
  },
  {
   "cell_type": "markdown",
   "id": "7816d312-ce93-4dd3-a271-38ebb0e38a7f",
   "metadata": {},
   "source": [
    "* **Bi inanışı(bir savı, bir tahmini vs)test etmek için kullanılan istatiksel bir tekniktir.**\n",
    "\n",
    "* **Hipotez testleri şans eseri ortaya çıkma durumunu da göz önünde bulundurarak şansa yer vermeyecek şekilde bize ilgilenmiş olduğumuz konuda bir ispat etme imkanı sağlar**"
   ]
  },
  {
   "cell_type": "markdown",
   "id": "ba268312-eeeb-45f1-80b5-d2e69a78f01a",
   "metadata": {},
   "source": [
    "## Hipotezler ve Türleri"
   ]
  },
  {
   "cell_type": "markdown",
   "id": "05eb6850-a792-4107-86c9-f62edb13e007",
   "metadata": {},
   "source": [
    "* Hipotezler \n",
    "    * <d><i>H</i><sub>0</sub>: <i>μ</i> = <i>50</i></d>\n",
    "    * <d><i>H</i><sub>1</sub>: <i>μ</i> ≠ <i>50</i></d><br><br> olarak ikiye ayrılır\n",
    "* 0 hipotezi ve alternatif hipotez de denebilir."
   ]
  },
  {
   "cell_type": "markdown",
   "id": "5c57e190-ce22-4533-bbb5-4b280748abb3",
   "metadata": {},
   "source": [
    "<d><i>H</i><sub>0</sub>: <i>μ</i> <= <i>50</i></d><br>\n",
    "<d><i>H</i><sub>1</sub>: <i>μ</i> > <i>50</i></d><br><br>\n",
    "\n",
    "<d><i>H</i><sub>0</sub>: <i>μ</i> >= <i>50</i></d><br>\n",
    "<d><i>H</i><sub>1</sub>: <i>μ</i> < <i>50</i></d><br><br>"
   ]
  },
  {
   "cell_type": "markdown",
   "id": "793f7686-1a13-415a-9aa9-54e0a2ec7956",
   "metadata": {},
   "source": [
    "## Hata Tespiti"
   ]
  },
  {
   "cell_type": "markdown",
   "id": "6930cd22-c0a6-4b2c-877c-7e8c2c393fd6",
   "metadata": {},
   "source": [
    "* Gerçekte  <d><i>H</i><sub>0</sub> doğru ve reddedilmedi -> Doğru Karar (1- alpha = Güven Düzeyi)\n",
    "* Gerçekte  <d><i>H</i><sub>0</sub> yanlış ve reddedilmedi -> 2. Tip Hata (Beta Hatası)\n",
    "* Gerçekte  <d><i>H</i><sub>0</sub> doğru ve reddedildi -> 1. Tip Hata (Alpha Hatası)\n",
    "* Gerçekte  <d><i>H</i><sub>0</sub> yanlış ve reddedildi -> Doğru Karar (1- beta = Testin Gücü)"
   ]
  },
  {
   "cell_type": "markdown",
   "id": "ff78ed48-0212-45ff-9a44-1481f8830f72",
   "metadata": {},
   "source": [
    "**P-Value:**\n",
    "* p < 0.05\n",
    "* Hipotez testlerinin sonuçlarını değerlendirmek üzere programlar tarafından p_value değeri verilir. BU değer üzerinden kolayca yorum yapabiliriz.\n",
    "* Alpha = 0.05"
   ]
  },
  {
   "cell_type": "markdown",
   "id": "bee92d51-ec1d-414f-a14a-a41d437e9937",
   "metadata": {},
   "source": [
    "**Dağılım testlerinde H0 reddedilmek istenilmez. Çünkü H0 \"örnek dağılımı ile teorik dağılım arasında fark yoktur\" der.**"
   ]
  },
  {
   "cell_type": "markdown",
   "id": "b2a78332-7eff-475c-9a6e-bcb18ff5feeb",
   "metadata": {},
   "source": [
    "# Hipotez Testi Adımları"
   ]
  },
  {
   "cell_type": "markdown",
   "id": "2c0ce62d-4fc4-4219-8a63-9ee306403fe0",
   "metadata": {},
   "source": [
    "* **Adım 1:** Hipotezlerin kurulması ve yönlerinin berlirlenmesi\n",
    "* **Adım 2:** Anlamlılık düzeyinin ve tablo değerinin belirlenmesi\n",
    "* **Adım 3:** Test istatistiğinin belirlenmesi ve test istatistiğinin hesaplanması\n",
    "* **Adım 4:** Hesaplanan test istatistiği ile alfa'ya karşılık gelen tablo değerinin karşılaştırılması.\n",
    "    * Test İstatistiği(Zh) > Tablo Değeri (Zt) ise H0 Red\n",
    "* **Adım 5:** Yorum"
   ]
  },
  {
   "cell_type": "markdown",
   "id": "43666a95-be67-45e0-980a-44b6ac89ce98",
   "metadata": {},
   "source": [
    "# Tek Örneklem T Testi"
   ]
  },
  {
   "cell_type": "markdown",
   "id": "c0954eeb-b0c3-4088-8dbb-a0629504d23f",
   "metadata": {},
   "source": [
    "Popülasyon ortalaması ile varsayımsal bir değer arasında istatiksel olarak anlamlı bir farklılık olup olmadığını test etmek için kullanılan parametrik bir testtir."
   ]
  },
  {
   "cell_type": "markdown",
   "id": "afc96731-9072-474b-ab34-c6e7ac443c9a",
   "metadata": {},
   "source": [
    "Örnek ortalamasına ilişkin test yapmak için kullanılır.\n",
    "\n",
    "**Hipotezler:**\n",
    "\n",
    "<d><i>H</i><sub>0</sub>: <i>μ</i> = <i>50</i></d>   \n",
    "<d><i>H</i><sub>1</sub>: <i>μ</i> ≠ <i>50</i></d><br><br>\n",
    "\n",
    "<d><i>H</i><sub>0</sub>: <i>μ</i> <= <i>50</i></d><br>\n",
    "<d><i>H</i><sub>1</sub>: <i>μ</i> > <i>50</i></d><br><br>\n",
    "\n",
    "<d><i>H</i><sub>0</sub>: <i>μ</i> >= <i>50</i></d><br>\n",
    "<d><i>H</i><sub>1</sub>: <i>μ</i> < <i>50</i></d><br><br>\n",
    "\n",
    "\n",
    "\n",
    "\n",
    "<table></table>\n",
    "\n",
    "**Test İstatistiği:**\n",
    "\n",
    "${\\displaystyle t={\\frac {{\\bar {x}}-\\mu _{0}}{\\frac {s}{\\sqrt {n}}}}}$\n",
    "\n",
    "* 1. Anakütle standart sapması biliniyorsa z istatistiği kullanılır.\n",
    "* 2. Anakütle standart sapması bilinmiyorsa ve n > 30 ise z istatistiği kullanılır.\n",
    "* 3. Anakütle standart sapması bilinmiyor ve n < 30 ise t istatistiği kullanılır.\n",
    "* n büyüdükçe t, z'ye yaklaşır"
   ]
  },
  {
   "cell_type": "markdown",
   "id": "aed66917-8b80-4f4d-bca0-5da7348482a4",
   "metadata": {},
   "source": [
    "# İş Uygulaması: Ürün Satın Alma Adım Optimizasyonu"
   ]
  },
  {
   "cell_type": "markdown",
   "id": "04fd7978-34ce-4309-9da7-e8fa801b2af1",
   "metadata": {},
   "source": [
    "* Problem:\n",
    "    * Sepete ürün ekleme işlemi sonrasında ödeme ekranında 5 adım vardır ve bu adımların birisi sorgulanmaktadır.\n",
    "* Detaylar:\n",
    "    * Her adımın 20'şer sn. olması hedefi var. 4. adım sorgulanıyor.\n",
    "    * Bu durumu test etmek için 100 örnek alınıyor.\n",
    "    * Örnek standart sapması 5 saniyedir. Örnek ortalaması ise 19 saniyedir."
   ]
  },
  {
   "cell_type": "markdown",
   "id": "ffe2e7ed-72fa-4478-9b2d-f8ae2af98fc8",
   "metadata": {},
   "source": [
    "* Standart sapmasını göz önünde bulundurarak istatistiki olarak anlamlı olup olmadığını değerlendirmiş olucaz."
   ]
  },
  {
   "cell_type": "markdown",
   "id": "ac152c45-c8c9-4f2e-b428-60dfc5539813",
   "metadata": {},
   "source": [
    "## Adımlar:\n",
    "* Adım 1: Hipotezlerin kurulması ve yönlerinin belirlenmesi\n",
    "\n",
    "<d><i>H</i><sub>0</sub>: <i>μ</i> = <i>20</i></d>   \n",
    "<d><i>H</i><sub>1</sub>: <i>μ</i> ≠ <i>20</i></d><br><br>\n",
    "\n",
    "* Adım 2: Anlamlılık düzeyinin ve tablo değerinin belirlenmesi\n",
    "    * Alfa = 0,05 Alfa/2 = 0,025 (Alfa = Kabul edilebilir hata miktarı) \n",
    "    * Kurmuş olduğumuz hipotez iki yanlı olduğu için alfayı ikiye bölüyoruz\n",
    "    * Ztablo olasılık değeri: 0,5 - 0,025 = 0,475\n",
    "    * Ztablo kritik değer = -/+ 1,96\n",
    "* Adım 3: Test istatistiğinin belirlenmesi ve test istatistiğinin hesaplanması\n",
    "    * n = 100\n",
    "    * Standart Sapma = 5\n",
    "    * Örnek Ortalaması 19 sn\n",
    "    * zhesap = (19-20)/5/sqrt(100)= -2,00\n",
    "* Adım 4: Ztablo ve Zhesap karşılaştırması Zh > Zt ya da -Zh < -Zt ise H0 Red\n",
    "    * Zhesap = -2,00 < Ztablo = -1,96 olduğu için H0 reddedilir.(Zhesap negatif bir değer ise Ztablo da negatif alınır)\n",
    "* Adım 5: Yorum\n",
    "    * 4. adımda geçirilen sürenin 20 saniye olduğu iddia eden H0 hipotezi reddedilmiştir. Buna göre kullanıcılar istatiksel olarak yüzde 95 güvenilirlik ile 4. adımda 20 saniyeden farklı zaman geçirmektedir."
   ]
  },
  {
   "cell_type": "markdown",
   "id": "112c2764-098a-4d72-bd4c-b8cff6bf2efd",
   "metadata": {},
   "source": [
    "# İş Uygulaması: Web Sitesinde Geçirilen Sürenin Testi"
   ]
  },
  {
   "cell_type": "markdown",
   "id": "c1678613-87e9-4930-8ccd-d8f6ba1b8af4",
   "metadata": {},
   "source": [
    "* Problem:\n",
    "    * Web sitemizde geçirilen ortalama süre gerçekten 170 saniye mi?\n",
    "* Detaylar\n",
    "    * Yazılımlardan elde edilen web sitesinde geçirilen ort. süreler var.\n",
    "    * Bu veriler incelendiğinde bir yönetici ya da çalışanımız bu değerlerin böyle olmadığına yönelik düşünceler taşıyor ve bu durumu test etmek istiyorlar."
   ]
  },
  {
   "cell_type": "markdown",
   "id": "e10b4c09-256c-4a1d-a656-155ef8651add",
   "metadata": {},
   "source": [
    "<d><i>H</i><sub>0</sub>: <i>μ</i> = <i>170</i></d>   \n",
    "<d><i>H</i><sub>1</sub>: <i>μ</i> ≠ <i>170</i></d><br><br>\n"
   ]
  },
  {
   "cell_type": "code",
   "execution_count": 3,
   "id": "85cd6c9a-1bfc-4d5e-8c9a-f257d90efa5e",
   "metadata": {},
   "outputs": [],
   "source": [
    "import numpy as np\n",
    "\n",
    "olcumler = np.array([17, 160, 234, 149, 145, 107, 197, 75, 201, 225, 211, 119, \n",
    "              157, 145, 127, 244, 163, 114, 145,  65, 112, 185, 202, 146,\n",
    "              203, 224, 203, 114, 188, 156, 187, 154, 177, 95, 165, 50, 110, \n",
    "              216, 138, 151, 166, 135, 155, 84, 251, 173, 131, 207, 121, 120])"
   ]
  },
  {
   "cell_type": "code",
   "execution_count": 4,
   "id": "3d7d0856-3327-4a38-a60b-0db25f692a4f",
   "metadata": {},
   "outputs": [
    {
     "data": {
      "text/plain": [
       "array([ 17, 160, 234, 149, 145, 107, 197,  75, 201, 225])"
      ]
     },
     "execution_count": 4,
     "metadata": {},
     "output_type": "execute_result"
    }
   ],
   "source": [
    "olcumler[0:10]"
   ]
  },
  {
   "cell_type": "code",
   "execution_count": 5,
   "id": "2aa280a7-20ae-4182-8a92-622f64cde18d",
   "metadata": {},
   "outputs": [],
   "source": [
    "import scipy.stats as stats"
   ]
  },
  {
   "cell_type": "code",
   "execution_count": 6,
   "id": "8fb9fbc5-aaee-416d-bd5e-78952c333585",
   "metadata": {},
   "outputs": [
    {
     "data": {
      "text/plain": [
       "DescribeResult(nobs=50, minmax=(17, 251), mean=154.38, variance=2578.0363265306123, skewness=-0.32398897278694483, kurtosis=-0.05849823498415985)"
      ]
     },
     "execution_count": 6,
     "metadata": {},
     "output_type": "execute_result"
    }
   ],
   "source": [
    "stats.describe(olcumler)"
   ]
  },
  {
   "cell_type": "markdown",
   "id": "cc2e4b4b-9ed0-48e4-9273-a2292a0a814a",
   "metadata": {},
   "source": [
    "* Varsayımlar\n",
    "* Normallik varsayımı"
   ]
  },
  {
   "cell_type": "code",
   "execution_count": 7,
   "id": "e5163825-2857-45c7-930c-b2fff6096425",
   "metadata": {},
   "outputs": [
    {
     "data": {
      "image/png": "[encoded data removed]",
      "text/plain": [
       "<Figure size 432x288 with 1 Axes>"
      ]
     },
     "metadata": {
      "needs_background": "light"
     },
     "output_type": "display_data"
    }
   ],
   "source": [
    "#histogram\n",
    "import pandas as pd\n",
    "pd.DataFrame(olcumler).plot.hist();"
   ]
  },
  {
   "cell_type": "code",
   "execution_count": 8,
   "id": "31a50b15-4bd7-40c8-b94e-f011efe2947e",
   "metadata": {},
   "outputs": [
    {
     "data": {
      "image/png": "[encoded data removed]",
      "text/plain": [
       "<Figure size 432x288 with 1 Axes>"
      ]
     },
     "metadata": {
      "needs_background": "light"
     },
     "output_type": "display_data"
    }
   ],
   "source": [
    "#qqplot\n",
    "import pylab \n",
    "stats.probplot(olcumler, dist = \"norm\", plot = pylab)\n",
    "pylab.show()"
   ]
  },
  {
   "cell_type": "markdown",
   "id": "a7faf6db-53dd-4020-9d16-e71dcbf885d9",
   "metadata": {},
   "source": [
    "**Shapiro-Wilks Testi**"
   ]
  },
  {
   "cell_type": "markdown",
   "id": "c6057205-8f0b-4af6-b098-acdfaac33cf6",
   "metadata": {},
   "source": [
    "H0: Örnek dağılımı ile teorik normal dağılım arasında istatiksel olarak anlamlı bir fark yoktur.\n",
    "\n",
    "H1: ... fark vardır"
   ]
  },
  {
   "cell_type": "code",
   "execution_count": 9,
   "id": "beb2f6ec-c4fc-4ec7-a422-f0508fcd23f8",
   "metadata": {},
   "outputs": [],
   "source": [
    "from scipy.stats import shapiro "
   ]
  },
  {
   "cell_type": "code",
   "execution_count": 10,
   "id": "56047bcd-979c-4442-b364-b62b0843174e",
   "metadata": {},
   "outputs": [
    {
     "data": {
      "text/plain": [
       "ShapiroResult(statistic=0.9853105545043945, pvalue=0.7848747968673706)"
      ]
     },
     "execution_count": 10,
     "metadata": {},
     "output_type": "execute_result"
    }
   ],
   "source": [
    "shapiro(olcumler)"
   ]
  },
  {
   "cell_type": "code",
   "execution_count": 11,
   "id": "556d8f97-f223-4fef-917e-b6214e91cafd",
   "metadata": {},
   "outputs": [
    {
     "name": "stdout",
     "output_type": "stream",
     "text": [
      "T Hesap İstatistiği: 0.9853105545043945\n",
      "Hesaplanan P-value: 0.7848747968673706\n"
     ]
    }
   ],
   "source": [
    "print(\"T Hesap İstatistiği: \" + str(shapiro(olcumler)[0]))\n",
    "print(\"Hesaplanan P-value: \" + str(shapiro(olcumler)[1]))"
   ]
  },
  {
   "cell_type": "code",
   "execution_count": 12,
   "id": "31c9fc50-39bd-4ab2-acad-051a8e91d400",
   "metadata": {},
   "outputs": [],
   "source": [
    "#Hipotez Testinin Uygulanması"
   ]
  },
  {
   "cell_type": "code",
   "execution_count": 13,
   "id": "8358cdab-fda1-4541-a7a1-d0f44df0ee9b",
   "metadata": {},
   "outputs": [
    {
     "data": {
      "text/plain": [
       "Ttest_1sampResult(statistic=-2.1753117985877966, pvalue=0.034460415195071446)"
      ]
     },
     "execution_count": 13,
     "metadata": {},
     "output_type": "execute_result"
    }
   ],
   "source": [
    "stats.ttest_1samp(olcumler, popmean = 170)"
   ]
  },
  {
   "cell_type": "markdown",
   "id": "0e602b1e-6547-4ad4-be1c-1ed25a21ecc3",
   "metadata": {},
   "source": [
    "H0: Web sitemizde geçirilen ortalama süre 170tir.\n",
    "H1: .. değildir."
   ]
  },
  {
   "cell_type": "markdown",
   "id": "af223251-672a-40fe-bf77-d9b63775c4a6",
   "metadata": {},
   "source": [
    "## Nonparametrik Tek Örneklem Testi"
   ]
  },
  {
   "cell_type": "code",
   "execution_count": 16,
   "id": "b0ce4a4e-631f-4a64-abd6-7cd7c0bbb8c7",
   "metadata": {},
   "outputs": [],
   "source": [
    "from statsmodels.stats.descriptivestats import sign_test"
   ]
  },
  {
   "cell_type": "code",
   "execution_count": 17,
   "id": "408533f8-ee35-4928-ac0c-e18504c9258e",
   "metadata": {},
   "outputs": [
    {
     "data": {
      "text/plain": [
       "(-7.0, 0.06490864707227217)"
      ]
     },
     "execution_count": 17,
     "metadata": {},
     "output_type": "execute_result"
    }
   ],
   "source": [
    "sign_test(olcumler, 170)"
   ]
  },
  {
   "cell_type": "markdown",
   "id": "123e4d8e-a240-4870-b767-0e1da92d24ad",
   "metadata": {},
   "source": [
    "# Tek Örneklem Oran Testi"
   ]
  },
  {
   "cell_type": "markdown",
   "id": "e8a03ea6-9188-4254-906a-e11c68d3ce34",
   "metadata": {},
   "source": [
    "Oransal bir ifade test edilmek istenildiğinde kullanılır."
   ]
  },
  {
   "cell_type": "markdown",
   "id": "1be09305-a383-4b79-9d24-b1f421e30e2e",
   "metadata": {},
   "source": [
    "## İş uygulaması:Dönüşüm Oranı Testi"
   ]
  },
  {
   "cell_type": "markdown",
   "id": "5d06cce7-581d-4928-b8cd-807ce152a8ee",
   "metadata": {},
   "source": [
    "* Problem:\n",
    "    * Bir yazılım ile bir mecrada reklam verilmiş ve bu reklama ilişkin yazılım tarafından 0.125 dönüşüm oranı elde edildiği ifade edilmiş. Fakat bu durum kontrol edilmek isteniyor. Çünkü bu yüksek bir oran ve gelirler incelendiğinde örtüşmüyor.\n",
    "* Detaylar:\n",
    "    * 500 kişi dış mecrada reklamlara tıklamış, 40 tanesi sitemize gelip alışveriş yapmış\n",
    "    * Örnek üzerinden elde edilen dönüşüm oranı: 40/500 = 0,08"
   ]
  },
  {
   "cell_type": "markdown",
   "id": "7e4ab1ef-efbc-4758-9f06-6ca45ad863e4",
   "metadata": {},
   "source": [
    "HO: p = 0.125 \n",
    "\n",
    "H1: p != 0.125"
   ]
  },
  {
   "cell_type": "code",
   "execution_count": 20,
   "id": "c3ec6e51-529f-4a3b-8a8a-be3a84a87343",
   "metadata": {},
   "outputs": [],
   "source": [
    "from statsmodels.stats.proportion import proportions_ztest"
   ]
  },
  {
   "cell_type": "code",
   "execution_count": 21,
   "id": "40664e42-d21d-4a57-9a9f-0d6aa31eca32",
   "metadata": {},
   "outputs": [],
   "source": [
    "count = 40\n",
    "nobs = 500\n",
    "value = 0.125"
   ]
  },
  {
   "cell_type": "code",
   "execution_count": 22,
   "id": "cb2201da-4779-46c5-9999-fd1ea741e918",
   "metadata": {},
   "outputs": [
    {
     "data": {
      "text/plain": [
       "(-3.7090151628513017, 0.0002080669689845979)"
      ]
     },
     "execution_count": 22,
     "metadata": {},
     "output_type": "execute_result"
    }
   ],
   "source": [
    "proportions_ztest(count,nobs,value)"
   ]
  },
  {
   "cell_type": "markdown",
   "id": "1fc8f2ea-5faa-4cfa-b827-bf320f8c0c2d",
   "metadata": {},
   "source": [
    "P value değerine bakarak 0.125lik dönüşüm oranının yanlış olduğu bilgisine erişiyoruz(%5 yanılma payı ile)"
   ]
  },
  {
   "cell_type": "markdown",
   "id": "9a9de979-aa0c-4472-925e-9fdaa4c7465b",
   "metadata": {},
   "source": [
    "# Bağımsız İki Örneklem T Testi (AB Testi)"
   ]
  },
  {
   "cell_type": "markdown",
   "id": "409c9e2e-65ce-4f4d-89a8-c533362b876f",
   "metadata": {},
   "source": [
    "**İki grup ortalaması arasında karşılaştırma yapılmak istenildiğinde kullanılır.**"
   ]
  },
  {
   "cell_type": "markdown",
   "id": "940d069f-e6db-420d-a180-374eaa5d9146",
   "metadata": {},
   "source": [
    "* Normallik\n",
    "* Varyans homojenliği"
   ]
  },
  {
   "cell_type": "markdown",
   "id": "372a2c7a-0765-47d6-918c-2fd777e96bd8",
   "metadata": {
    "tags": []
   },
   "source": [
    "## İş uygulaması: ML Modelinin Başarı Testi(AB Testi)"
   ]
  },
  {
   "cell_type": "markdown",
   "id": "46d62584-5cae-4340-b227-a710fd2cd1ec",
   "metadata": {},
   "source": [
    "* Problem:\n",
    "    * Bir ML projesine yatırım yapılmış. Ürettiği tahminler neticesinde oluşan gelir ile eski sistemiin ürettiği gelirler karşılaştırılıp anlamlı farklılık olup olmadığı test edilmek isteniyor.\n",
    "* Detaylar:\n",
    "    * Model geliştirilmiş ve web sitesine entegre edilmiş.\n",
    "    * Site kullanıcıları belirli bir kurala göre ikiye bölünmüş olsun.\n",
    "    * A grubu eski B grubu yeni sistem.\n",
    "    * Gelir anlamında anlamlı bir iş yapılıp yapılmadığı test edilmek isteniyor."
   ]
  },
  {
   "cell_type": "markdown",
   "id": "a0a0d704-2105-4c15-b6ba-66e855fd4d04",
   "metadata": {
    "tags": []
   },
   "source": [
    "### Veri Tipi 1"
   ]
  },
  {
   "cell_type": "code",
   "execution_count": 23,
   "id": "948782e7-c20e-4cec-bac7-a02233b19b94",
   "metadata": {},
   "outputs": [
    {
     "data": {
      "text/html": [
       "<div>\n",
       "<style scoped>\n",
       "    .dataframe tbody tr th:only-of-type {\n",
       "        vertical-align: middle;\n",
       "    }\n",
       "\n",
       "    .dataframe tbody tr th {\n",
       "        vertical-align: top;\n",
       "    }\n",
       "\n",
       "    .dataframe thead th {\n",
       "        text-align: right;\n",
       "    }\n",
       "</style>\n",
       "<table border=\"1\" class=\"dataframe\">\n",
       "  <thead>\n",
       "    <tr style=\"text-align: right;\">\n",
       "      <th></th>\n",
       "      <th>A</th>\n",
       "      <th>B</th>\n",
       "    </tr>\n",
       "  </thead>\n",
       "  <tbody>\n",
       "    <tr>\n",
       "      <th>0</th>\n",
       "      <td>30</td>\n",
       "      <td>37</td>\n",
       "    </tr>\n",
       "    <tr>\n",
       "      <th>1</th>\n",
       "      <td>27</td>\n",
       "      <td>39</td>\n",
       "    </tr>\n",
       "    <tr>\n",
       "      <th>2</th>\n",
       "      <td>21</td>\n",
       "      <td>31</td>\n",
       "    </tr>\n",
       "    <tr>\n",
       "      <th>3</th>\n",
       "      <td>27</td>\n",
       "      <td>31</td>\n",
       "    </tr>\n",
       "    <tr>\n",
       "      <th>4</th>\n",
       "      <td>29</td>\n",
       "      <td>34</td>\n",
       "    </tr>\n",
       "  </tbody>\n",
       "</table>\n",
       "</div>"
      ],
      "text/plain": [
       "    A   B\n",
       "0  30  37\n",
       "1  27  39\n",
       "2  21  31\n",
       "3  27  31\n",
       "4  29  34"
      ]
     },
     "execution_count": 23,
     "metadata": {},
     "output_type": "execute_result"
    }
   ],
   "source": [
    "A = pd.DataFrame([30,27,21,27,29,30,20,20,27,32,35,22,24,23,25,27,23,27,23,\n",
    "        25,21,18,24,26,33,26,27,28,19,25])\n",
    "\n",
    "B = pd.DataFrame([37,39,31,31,34,38,30,36,29,28,38,28,37,37,30,32,31,31,27,\n",
    "        32,33,33,33,31,32,33,26,32,33,29])\n",
    "\n",
    "\n",
    "A_B = pd.concat([A, B], axis = 1)\n",
    "A_B.columns = [\"A\",\"B\"]\n",
    "\n",
    "A_B.head()"
   ]
  },
  {
   "cell_type": "markdown",
   "id": "68e83375-f930-473f-a45d-f3700d304472",
   "metadata": {},
   "source": [
    "### Veri Tipi 2"
   ]
  },
  {
   "cell_type": "code",
   "execution_count": 26,
   "id": "2e89c0dd-352d-454c-b971-5bda3f4a50a3",
   "metadata": {},
   "outputs": [
    {
     "name": "stdout",
     "output_type": "stream",
     "text": [
      "   gelir GRUP\n",
      "0     30    A\n",
      "1     27    A\n",
      "2     21    A\n",
      "3     27    A\n",
      "4     29    A\n",
      "    gelir GRUP\n",
      "25     33    B\n",
      "26     26    B\n",
      "27     32    B\n",
      "28     33    B\n",
      "29     29    B\n"
     ]
    }
   ],
   "source": [
    "A = pd.DataFrame([30,27,21,27,29,30,20,20,27,32,35,22,24,23,25,27,23,27,23,\n",
    "        25,21,18,24,26,33,26,27,28,19,25])\n",
    "\n",
    "B = pd.DataFrame([37,39,31,31,34,38,30,36,29,28,38,28,37,37,30,32,31,31,27,\n",
    "        32,33,33,33,31,32,33,26,32,33,29])\n",
    "#A ve A'nın grubu\n",
    "GRUP_A = np.arange(len(A))\n",
    "GRUP_A = pd.DataFrame(GRUP_A)\n",
    "GRUP_A[:] = \"A\"\n",
    "A = pd.concat([A, GRUP_A], axis = 1)\n",
    "\n",
    "#B ve B'nin Grubu\n",
    "GRUP_B = np.arange(len(B))\n",
    "GRUP_B = pd.DataFrame(GRUP_B)\n",
    "GRUP_B[:] = \"B\"\n",
    "B = pd.concat([B, GRUP_B], axis = 1)\n",
    "\n",
    "#Tum veri\n",
    "AB = pd.concat([A,B])\n",
    "AB.columns = [\"gelir\",\"GRUP\"]\n",
    "print(AB.head())\n",
    "print(AB.tail())"
   ]
  },
  {
   "cell_type": "code",
   "execution_count": 27,
   "id": "2fcda290-afa6-488d-936d-92fd3c710e8c",
   "metadata": {},
   "outputs": [
    {
     "data": {
      "image/png": "[encoded data removed]",
      "text/plain": [
       "<Figure size 432x288 with 1 Axes>"
      ]
     },
     "metadata": {
      "needs_background": "light"
     },
     "output_type": "display_data"
    }
   ],
   "source": [
    "import seaborn as sns\n",
    "sns.boxplot(x = \"GRUP\", y = \"gelir\", data = AB);"
   ]
  },
  {
   "cell_type": "markdown",
   "id": "2c4063b2-2b10-4ef4-8d90-e894d258bb93",
   "metadata": {},
   "source": [
    "## Varsayım Kontrolü"
   ]
  },
  {
   "cell_type": "code",
   "execution_count": 28,
   "id": "4a382014-5312-4bcf-aa17-22181162bd29",
   "metadata": {},
   "outputs": [
    {
     "data": {
      "text/html": [
       "<div>\n",
       "<style scoped>\n",
       "    .dataframe tbody tr th:only-of-type {\n",
       "        vertical-align: middle;\n",
       "    }\n",
       "\n",
       "    .dataframe tbody tr th {\n",
       "        vertical-align: top;\n",
       "    }\n",
       "\n",
       "    .dataframe thead th {\n",
       "        text-align: right;\n",
       "    }\n",
       "</style>\n",
       "<table border=\"1\" class=\"dataframe\">\n",
       "  <thead>\n",
       "    <tr style=\"text-align: right;\">\n",
       "      <th></th>\n",
       "      <th>A</th>\n",
       "      <th>B</th>\n",
       "    </tr>\n",
       "  </thead>\n",
       "  <tbody>\n",
       "    <tr>\n",
       "      <th>0</th>\n",
       "      <td>30</td>\n",
       "      <td>37</td>\n",
       "    </tr>\n",
       "    <tr>\n",
       "      <th>1</th>\n",
       "      <td>27</td>\n",
       "      <td>39</td>\n",
       "    </tr>\n",
       "    <tr>\n",
       "      <th>2</th>\n",
       "      <td>21</td>\n",
       "      <td>31</td>\n",
       "    </tr>\n",
       "    <tr>\n",
       "      <th>3</th>\n",
       "      <td>27</td>\n",
       "      <td>31</td>\n",
       "    </tr>\n",
       "    <tr>\n",
       "      <th>4</th>\n",
       "      <td>29</td>\n",
       "      <td>34</td>\n",
       "    </tr>\n",
       "  </tbody>\n",
       "</table>\n",
       "</div>"
      ],
      "text/plain": [
       "    A   B\n",
       "0  30  37\n",
       "1  27  39\n",
       "2  21  31\n",
       "3  27  31\n",
       "4  29  34"
      ]
     },
     "execution_count": 28,
     "metadata": {},
     "output_type": "execute_result"
    }
   ],
   "source": [
    "A_B.head()"
   ]
  },
  {
   "cell_type": "code",
   "execution_count": 29,
   "id": "d06dd18f-b52f-4090-a6f8-6545873c3800",
   "metadata": {},
   "outputs": [
    {
     "data": {
      "text/html": [
       "<div>\n",
       "<style scoped>\n",
       "    .dataframe tbody tr th:only-of-type {\n",
       "        vertical-align: middle;\n",
       "    }\n",
       "\n",
       "    .dataframe tbody tr th {\n",
       "        vertical-align: top;\n",
       "    }\n",
       "\n",
       "    .dataframe thead th {\n",
       "        text-align: right;\n",
       "    }\n",
       "</style>\n",
       "<table border=\"1\" class=\"dataframe\">\n",
       "  <thead>\n",
       "    <tr style=\"text-align: right;\">\n",
       "      <th></th>\n",
       "      <th>gelir</th>\n",
       "      <th>GRUP</th>\n",
       "    </tr>\n",
       "  </thead>\n",
       "  <tbody>\n",
       "    <tr>\n",
       "      <th>0</th>\n",
       "      <td>30</td>\n",
       "      <td>A</td>\n",
       "    </tr>\n",
       "    <tr>\n",
       "      <th>1</th>\n",
       "      <td>27</td>\n",
       "      <td>A</td>\n",
       "    </tr>\n",
       "    <tr>\n",
       "      <th>2</th>\n",
       "      <td>21</td>\n",
       "      <td>A</td>\n",
       "    </tr>\n",
       "    <tr>\n",
       "      <th>3</th>\n",
       "      <td>27</td>\n",
       "      <td>A</td>\n",
       "    </tr>\n",
       "    <tr>\n",
       "      <th>4</th>\n",
       "      <td>29</td>\n",
       "      <td>A</td>\n",
       "    </tr>\n",
       "  </tbody>\n",
       "</table>\n",
       "</div>"
      ],
      "text/plain": [
       "   gelir GRUP\n",
       "0     30    A\n",
       "1     27    A\n",
       "2     21    A\n",
       "3     27    A\n",
       "4     29    A"
      ]
     },
     "execution_count": 29,
     "metadata": {},
     "output_type": "execute_result"
    }
   ],
   "source": [
    "AB.head()"
   ]
  },
  {
   "cell_type": "markdown",
   "id": "6fa5fcfb-3db5-4e8e-8ab1-f33e37ac0453",
   "metadata": {},
   "source": [
    "### Normallik Varsayımı"
   ]
  },
  {
   "cell_type": "code",
   "execution_count": 31,
   "id": "d2a83a15-d75e-49e7-98e5-fa1eeec22251",
   "metadata": {},
   "outputs": [],
   "source": [
    "from scipy.stats import shapiro"
   ]
  },
  {
   "cell_type": "code",
   "execution_count": 32,
   "id": "91bb39da-a8a2-47dd-88d3-2091f9d5546a",
   "metadata": {},
   "outputs": [
    {
     "data": {
      "text/plain": [
       "ShapiroResult(statistic=0.9789242148399353, pvalue=0.7962799668312073)"
      ]
     },
     "execution_count": 32,
     "metadata": {},
     "output_type": "execute_result"
    }
   ],
   "source": [
    "shapiro(A_B.A)"
   ]
  },
  {
   "cell_type": "code",
   "execution_count": 33,
   "id": "ada56386-4d09-4f22-b656-5b3e9e4fd7b7",
   "metadata": {},
   "outputs": [
    {
     "data": {
      "text/plain": [
       "ShapiroResult(statistic=0.9561261534690857, pvalue=0.2458445429801941)"
      ]
     },
     "execution_count": 33,
     "metadata": {},
     "output_type": "execute_result"
    }
   ],
   "source": [
    "shapiro(A_B.B)"
   ]
  },
  {
   "cell_type": "markdown",
   "id": "b04982b6-edfa-4257-bf1f-7116ebee87f7",
   "metadata": {},
   "source": [
    "### Varyans Homojenliği Varsayımı"
   ]
  },
  {
   "cell_type": "markdown",
   "id": "248bd0f7-5dd3-47c0-9226-92a36673db1e",
   "metadata": {},
   "source": [
    "H0: Varyanslar Homojendir.\n",
    "\n",
    "H1: Varyanslar Homojen Değildir."
   ]
  },
  {
   "cell_type": "code",
   "execution_count": 34,
   "id": "00e8ceed-2695-4ab7-a2bf-6996feda1a5c",
   "metadata": {},
   "outputs": [
    {
     "data": {
      "text/plain": [
       "LeveneResult(statistic=1.1101802757158004, pvalue=0.2964124900636569)"
      ]
     },
     "execution_count": 34,
     "metadata": {},
     "output_type": "execute_result"
    }
   ],
   "source": [
    "stats.levene(A_B.A,A_B.B)"
   ]
  },
  {
   "cell_type": "markdown",
   "id": "24491a9f-a20c-4c83-b048-a64f99992704",
   "metadata": {},
   "source": [
    "## Hipotez Testi "
   ]
  },
  {
   "cell_type": "code",
   "execution_count": 35,
   "id": "cee7a061-6156-404e-9832-227f62d34fbf",
   "metadata": {},
   "outputs": [
    {
     "data": {
      "text/plain": [
       "Ttest_indResult(statistic=-7.028690967745927, pvalue=2.6233215605475075e-09)"
      ]
     },
     "execution_count": 35,
     "metadata": {},
     "output_type": "execute_result"
    }
   ],
   "source": [
    "stats.ttest_ind(A_B[\"A\"],A_B[\"B\"], equal_var = True)"
   ]
  },
  {
   "cell_type": "code",
   "execution_count": 37,
   "id": "bf169601-fc8e-48e9-9932-2fe63b032d8a",
   "metadata": {},
   "outputs": [
    {
     "name": "stdout",
     "output_type": "stream",
     "text": [
      "Test İstatistiği = -7.0287, p-değeri = 0.0000\n"
     ]
    }
   ],
   "source": [
    "test_istatistigi, pvalue = stats.ttest_ind(A_B[\"A\"], A_B[\"B\"], equal_var=True)\n",
    "print('Test İstatistiği = %.4f, p-değeri = %.4f' % (test_istatistigi, pvalue))"
   ]
  },
  {
   "cell_type": "markdown",
   "id": "0cdd1a0a-2348-40f7-bc6d-452b9df54cd4",
   "metadata": {},
   "source": [
    "## Nonparametrik Bağımsız İki Örneklem Testi"
   ]
  },
  {
   "cell_type": "code",
   "execution_count": 38,
   "id": "3b418e32-0c0c-404e-8f64-71f55d0c8dd8",
   "metadata": {},
   "outputs": [
    {
     "data": {
      "text/plain": [
       "MannwhitneyuResult(statistic=89.5, pvalue=9.557950378612535e-08)"
      ]
     },
     "execution_count": 38,
     "metadata": {},
     "output_type": "execute_result"
    }
   ],
   "source": [
    "stats.mannwhitneyu(A_B[\"A\"],A_B[\"B\"])"
   ]
  },
  {
   "cell_type": "code",
   "execution_count": 40,
   "id": "6e64b839-7c1f-472f-8fac-ff82efc227b7",
   "metadata": {},
   "outputs": [
    {
     "name": "stdout",
     "output_type": "stream",
     "text": [
      "Test İstatistiği = 89.5000, p-değeri = 0.0000\n"
     ]
    }
   ],
   "source": [
    "test_istatistigi, pvalue = stats.mannwhitneyu(A_B[\"A\"], A_B[\"B\"])\n",
    "print('Test İstatistiği = %.4f, p-değeri = %.4f' % (test_istatistigi, pvalue))"
   ]
  },
  {
   "cell_type": "markdown",
   "id": "3278444a-8d99-473c-a9d3-d8e3d5251e99",
   "metadata": {},
   "source": [
    "# Bağımlı İki Örneklem T Testi"
   ]
  },
  {
   "cell_type": "markdown",
   "id": "bf4237f6-7a60-424b-ba43-059ed0277e61",
   "metadata": {},
   "source": [
    "Bağımlı iki grup ortalaması arasında karşılaştırma yapılmak istenildiğinde kullanılır."
   ]
  },
  {
   "cell_type": "markdown",
   "id": "0222fc88-994a-4738-b203-d724d5a8109e",
   "metadata": {},
   "source": [
    "* Normallik\n",
    "* Varyans Homojenliği"
   ]
  },
  {
   "cell_type": "markdown",
   "id": "06ba703a-769a-4273-94a1-95f183d47e8b",
   "metadata": {},
   "source": [
    "## İş Uygulaması: Şirket İçi Eğitimin Performans Etkisi Ölçümü"
   ]
  },
  {
   "cell_type": "markdown",
   "id": "40445c55-e162-4b16-87e5-ac7c3dad6ade",
   "metadata": {},
   "source": [
    "* Problem:\n",
    "    * Belirli uğraşlar sonucunda alınan bir eğitimin katma değer sağlayıp sağlamadığı ölçülmek isteniyor.\n",
    "* Detaylar:\n",
    "    * Bir departman bir konuda eğitim talep ediyor.\n",
    "    * Gerekli/Gereksiz değerlendirmeleri neticesinde eğitim alınıyor.\n",
    "    * Eğitimden önce ve sonra olcak şekildegerekli ölçümler yapılıyor\n",
    "    * Eğitim sonrasında eğitimin sağladığı katma değer test edilmek isteniyor."
   ]
  },
  {
   "cell_type": "markdown",
   "id": "6f890a5f-d021-4e75-b4b5-fb61c218473e",
   "metadata": {},
   "source": [
    "H0: MÖ = MS\n",
    "\n",
    "H1: MÖ != MS"
   ]
  },
  {
   "cell_type": "code",
   "execution_count": 43,
   "id": "a051436e-9011-4fa2-8753-ac06b75a6fb4",
   "metadata": {},
   "outputs": [],
   "source": [
    "oncesi = pd.DataFrame([123,119,119,116,123,123,121,120,117,118,121,121,123,119,\n",
    "            121,118,124,121,125,115,115,119,118,121,117,117,120,120,\n",
    "            121,117,118,117,123,118,124,121,115,118,125,115])\n",
    "\n",
    "sonrasi = pd.DataFrame([118,127,122,132,129,123,129,132,128,130,128,138,140,130,\n",
    "             134,134,124,140,134,129,129,138,134,124,122,126,133,127,\n",
    "             130,130,130,132,117,130,125,129,133,120,127,123])"
   ]
  },
  {
   "cell_type": "code",
   "execution_count": 44,
   "id": "6fc69121-810d-41a0-a66d-1cc5128f531f",
   "metadata": {},
   "outputs": [
    {
     "data": {
      "text/html": [
       "<div>\n",
       "<style scoped>\n",
       "    .dataframe tbody tr th:only-of-type {\n",
       "        vertical-align: middle;\n",
       "    }\n",
       "\n",
       "    .dataframe tbody tr th {\n",
       "        vertical-align: top;\n",
       "    }\n",
       "\n",
       "    .dataframe thead th {\n",
       "        text-align: right;\n",
       "    }\n",
       "</style>\n",
       "<table border=\"1\" class=\"dataframe\">\n",
       "  <thead>\n",
       "    <tr style=\"text-align: right;\">\n",
       "      <th></th>\n",
       "      <th>0</th>\n",
       "    </tr>\n",
       "  </thead>\n",
       "  <tbody>\n",
       "    <tr>\n",
       "      <th>0</th>\n",
       "      <td>123</td>\n",
       "    </tr>\n",
       "    <tr>\n",
       "      <th>1</th>\n",
       "      <td>119</td>\n",
       "    </tr>\n",
       "    <tr>\n",
       "      <th>2</th>\n",
       "      <td>119</td>\n",
       "    </tr>\n",
       "    <tr>\n",
       "      <th>3</th>\n",
       "      <td>116</td>\n",
       "    </tr>\n",
       "    <tr>\n",
       "      <th>4</th>\n",
       "      <td>123</td>\n",
       "    </tr>\n",
       "  </tbody>\n",
       "</table>\n",
       "</div>"
      ],
      "text/plain": [
       "     0\n",
       "0  123\n",
       "1  119\n",
       "2  119\n",
       "3  116\n",
       "4  123"
      ]
     },
     "execution_count": 44,
     "metadata": {},
     "output_type": "execute_result"
    }
   ],
   "source": [
    "oncesi[0:5]"
   ]
  },
  {
   "cell_type": "code",
   "execution_count": 46,
   "id": "912ec484-523b-4ebd-ad06-2a849d907fbc",
   "metadata": {},
   "outputs": [
    {
     "data": {
      "text/html": [
       "<div>\n",
       "<style scoped>\n",
       "    .dataframe tbody tr th:only-of-type {\n",
       "        vertical-align: middle;\n",
       "    }\n",
       "\n",
       "    .dataframe tbody tr th {\n",
       "        vertical-align: top;\n",
       "    }\n",
       "\n",
       "    .dataframe thead th {\n",
       "        text-align: right;\n",
       "    }\n",
       "</style>\n",
       "<table border=\"1\" class=\"dataframe\">\n",
       "  <thead>\n",
       "    <tr style=\"text-align: right;\">\n",
       "      <th></th>\n",
       "      <th>0</th>\n",
       "    </tr>\n",
       "  </thead>\n",
       "  <tbody>\n",
       "    <tr>\n",
       "      <th>0</th>\n",
       "      <td>118</td>\n",
       "    </tr>\n",
       "    <tr>\n",
       "      <th>1</th>\n",
       "      <td>127</td>\n",
       "    </tr>\n",
       "    <tr>\n",
       "      <th>2</th>\n",
       "      <td>122</td>\n",
       "    </tr>\n",
       "    <tr>\n",
       "      <th>3</th>\n",
       "      <td>132</td>\n",
       "    </tr>\n",
       "    <tr>\n",
       "      <th>4</th>\n",
       "      <td>129</td>\n",
       "    </tr>\n",
       "  </tbody>\n",
       "</table>\n",
       "</div>"
      ],
      "text/plain": [
       "     0\n",
       "0  118\n",
       "1  127\n",
       "2  122\n",
       "3  132\n",
       "4  129"
      ]
     },
     "execution_count": 46,
     "metadata": {},
     "output_type": "execute_result"
    }
   ],
   "source": [
    "sonrasi[0:5]"
   ]
  },
  {
   "cell_type": "code",
   "execution_count": 47,
   "id": "bd696149-1e86-4c59-bdd2-63830f44a7cf",
   "metadata": {},
   "outputs": [
    {
     "name": "stdout",
     "output_type": "stream",
     "text": [
      "'AYRIK' Veri Seti: \n",
      "\n",
      "     ONCESI  SONRASI\n",
      "0     123      118\n",
      "1     119      127\n",
      "2     119      122\n",
      "3     116      132\n",
      "4     123      129 \n",
      "\n",
      "\n",
      "'BIRLIKTE' Veri Seti: \n",
      "\n",
      "    PERFORMANS ONCESI_SONRASI\n",
      "0         123         ONCESI\n",
      "1         119         ONCESI\n",
      "2         119         ONCESI\n",
      "3         116         ONCESI\n",
      "4         123         ONCESI \n",
      "\n"
     ]
    }
   ],
   "source": [
    "#BIRINCI VERI SETI\n",
    "AYRIK = pd.concat([oncesi, sonrasi], axis = 1)\n",
    "AYRIK.columns = [\"ONCESI\",\"SONRASI\"]\n",
    "print(\"'AYRIK' Veri Seti: \\n\\n \", AYRIK.head(), \"\\n\\n\")\n",
    "\n",
    "\n",
    "#IKINCI VERI SETI\n",
    "#ONCESI FLAG/TAG'INI OLUSTURMA\n",
    "GRUP_ONCESI = np.arange(len(oncesi))\n",
    "GRUP_ONCESI = pd.DataFrame(GRUP_ONCESI)\n",
    "GRUP_ONCESI[:] = \"ONCESI\"\n",
    "#FLAG VE ONCESI DEGERLERINI BIR ARAYA GETIRME\n",
    "A = pd.concat([oncesi, GRUP_ONCESI], axis = 1)\n",
    "#SONRASI FLAG/TAG'INI OLUSTURMA\n",
    "GRUP_SONRASI = np.arange(len(sonrasi))\n",
    "GRUP_SONRASI = pd.DataFrame(GRUP_SONRASI)\n",
    "GRUP_SONRASI[:] = \"SONRASI\"\n",
    "\n",
    "#FLAG VE SONRASI DEGERLERINI BIR ARAYA GETIRME\n",
    "B = pd.concat([sonrasi, GRUP_SONRASI], axis = 1)\n",
    "\n",
    "#TUM VERIYI BIR ARAYA GETIRME\n",
    "BIRLIKTE = pd.concat([A,B])\n",
    "BIRLIKTE\n",
    "\n",
    "#ISIMLENDIRME\n",
    "BIRLIKTE.columns = [\"PERFORMANS\",\"ONCESI_SONRASI\"]\n",
    "print(\"'BIRLIKTE' Veri Seti: \\n\\n\", BIRLIKTE.head(), \"\\n\")"
   ]
  },
  {
   "cell_type": "code",
   "execution_count": 49,
   "id": "9e289850-8b74-4e44-ac0a-484602d7a850",
   "metadata": {},
   "outputs": [
    {
     "data": {
      "image/png": "[encoded data removed]",
      "text/plain": [
       "<Figure size 432x288 with 1 Axes>"
      ]
     },
     "metadata": {
      "needs_background": "light"
     },
     "output_type": "display_data"
    }
   ],
   "source": [
    "sns.boxplot(x = \"ONCESI_SONRASI\",y = \"PERFORMANS\",data = BIRLIKTE);"
   ]
  },
  {
   "cell_type": "markdown",
   "id": "278becda-8f2a-410d-a83c-9d92d6d66214",
   "metadata": {},
   "source": [
    "## Varsayım Kontrolleri"
   ]
  },
  {
   "cell_type": "code",
   "execution_count": 50,
   "id": "92472d48-fded-4ce0-99e5-c2c4e37b2769",
   "metadata": {},
   "outputs": [],
   "source": [
    "from scipy.stats import shapiro"
   ]
  },
  {
   "cell_type": "code",
   "execution_count": 52,
   "id": "e1d01fc9-3ce9-4357-97fe-0180d2775268",
   "metadata": {},
   "outputs": [
    {
     "data": {
      "text/plain": [
       "ShapiroResult(statistic=0.9543654918670654, pvalue=0.10722342133522034)"
      ]
     },
     "execution_count": 52,
     "metadata": {},
     "output_type": "execute_result"
    }
   ],
   "source": [
    "shapiro(AYRIK.ONCESI)"
   ]
  },
  {
   "cell_type": "code",
   "execution_count": 53,
   "id": "2c9d3a90-475c-4629-9421-e52094243b89",
   "metadata": {},
   "outputs": [
    {
     "data": {
      "text/plain": [
       "ShapiroResult(statistic=0.9780087471008301, pvalue=0.6159457564353943)"
      ]
     },
     "execution_count": 53,
     "metadata": {},
     "output_type": "execute_result"
    }
   ],
   "source": [
    "shapiro(AYRIK.SONRASI)"
   ]
  },
  {
   "cell_type": "code",
   "execution_count": 56,
   "id": "d06b570c-4966-4a34-b68c-5a22c91a7b1b",
   "metadata": {},
   "outputs": [
    {
     "data": {
      "text/plain": [
       "LeveneResult(statistic=8.31303288672351, pvalue=0.0050844511807370246)"
      ]
     },
     "execution_count": 56,
     "metadata": {},
     "output_type": "execute_result"
    }
   ],
   "source": [
    "import scipy.stats as stats\n",
    "stats.levene(AYRIK.ONCESI, AYRIK.SONRASI)"
   ]
  },
  {
   "cell_type": "markdown",
   "id": "82c914cc-5a8f-4aca-875f-318fbe35f213",
   "metadata": {},
   "source": [
    "## Hipotez Testi"
   ]
  },
  {
   "cell_type": "code",
   "execution_count": 57,
   "id": "6a799bb6-53ab-4d5d-b48c-da8ec584f931",
   "metadata": {},
   "outputs": [
    {
     "data": {
      "text/plain": [
       "Ttest_relResult(statistic=-9.281533480429937, pvalue=2.0235251764440722e-11)"
      ]
     },
     "execution_count": 57,
     "metadata": {},
     "output_type": "execute_result"
    }
   ],
   "source": [
    "stats.ttest_rel(AYRIK.ONCESI, AYRIK.SONRASI)"
   ]
  },
  {
   "cell_type": "code",
   "execution_count": 67,
   "id": "ea74cb0b-2540-44c9-802d-62e5ddfbcb69",
   "metadata": {},
   "outputs": [
    {
     "name": "stdout",
     "output_type": "stream",
     "text": [
      "Test İstatistiği = -9.28153, p-değeri = 0.00000\n"
     ]
    }
   ],
   "source": [
    "test_istatistigi, pvalue = stats.ttest_rel(AYRIK[\"ONCESI\"], AYRIK[\"SONRASI\"])\n",
    "print('Test İstatistiği = %.5f, p-değeri = %.5f' % (test_istatistigi, pvalue))"
   ]
  },
  {
   "cell_type": "markdown",
   "id": "45ba81c3-07bd-4d6a-a77d-20492e4c9d06",
   "metadata": {},
   "source": [
    "# Nonparametrik Bağımlı İki Örneklem Testi"
   ]
  },
  {
   "cell_type": "code",
   "execution_count": 68,
   "id": "d4d2cef3-5f4a-402f-b467-69d729064eca",
   "metadata": {},
   "outputs": [
    {
     "data": {
      "text/plain": [
       "WilcoxonResult(statistic=15.0, pvalue=2.491492033374464e-07)"
      ]
     },
     "execution_count": 68,
     "metadata": {},
     "output_type": "execute_result"
    }
   ],
   "source": [
    "stats.wilcoxon(AYRIK.ONCESI, AYRIK.SONRASI)"
   ]
  },
  {
   "cell_type": "code",
   "execution_count": 69,
   "id": "c95e18e2-518d-4819-bfa5-e81547f1b4c7",
   "metadata": {},
   "outputs": [
    {
     "name": "stdout",
     "output_type": "stream",
     "text": [
      "Test İstatistiği = 15.00000, p-değeri = 0.00000\n"
     ]
    }
   ],
   "source": [
    "test_istatistigi, pvalue = stats.wilcoxon(AYRIK[\"ONCESI\"], AYRIK[\"SONRASI\"])\n",
    "print('Test İstatistiği = %.5f, p-değeri = %.5f' % (test_istatistigi, pvalue))"
   ]
  },
  {
   "cell_type": "markdown",
   "id": "fbcf372e-761d-45d3-af0b-dc2c2e608d63",
   "metadata": {},
   "source": [
    "# İki Örneklem Oran Testi"
   ]
  },
  {
   "cell_type": "markdown",
   "id": "f8d78394-c624-4092-8d53-1bb2af92dd49",
   "metadata": {},
   "source": [
    "İki oran arasında karşılaştımra yapmak için kullanılır"
   ]
  },
  {
   "cell_type": "markdown",
   "id": "f40f8b23-ca55-4602-aaf5-5d50ddff54eb",
   "metadata": {},
   "source": [
    "n1 > 30\n",
    "\n",
    "n2 > 30"
   ]
  },
  {
   "cell_type": "markdown",
   "id": "cc5537ab-0210-44fb-960c-a7f5978e4675",
   "metadata": {},
   "source": [
    "# İş Uygulaması: Kullanıcı Arayüzü Deneyi(AB Testi)"
   ]
  },
  {
   "cell_type": "markdown",
   "id": "bfac93c4-1625-481e-a9b3-5dae4742d815",
   "metadata": {},
   "source": [
    "* Problem\n",
    "    * Kırmızı Buton mu Yeşil Buton Mu?\n",
    "    * H0: P1 <= P2\n",
    "    * H1: P1 > P2\n",
    "* Detaylar:\n",
    "    * Yeşil Buton: 1000 Görüntülenme 300 Tıklama\n",
    "    * Kırmızı Buton: 1100 Görüntülenme 250 Tıklama"
   ]
  },
  {
   "cell_type": "code",
   "execution_count": 72,
   "id": "14deecae-88e7-48a0-bbbd-6564d7ff30c6",
   "metadata": {},
   "outputs": [],
   "source": [
    "from statsmodels.stats.proportion import proportions_ztest"
   ]
  },
  {
   "cell_type": "code",
   "execution_count": 73,
   "id": "88c4701f-4f8e-4d8f-a038-d7c9397e720a",
   "metadata": {},
   "outputs": [],
   "source": [
    "import numpy as np"
   ]
  },
  {
   "cell_type": "code",
   "execution_count": 74,
   "id": "6f5e8041-e1b9-4d85-95e7-27b6977d5de4",
   "metadata": {},
   "outputs": [],
   "source": [
    "basari_sayisi = np.array([300,250])\n",
    "gozlem_sayilari = np.array([1000,1100])"
   ]
  },
  {
   "cell_type": "code",
   "execution_count": 75,
   "id": "ed431e3d-ac4d-4cd9-8447-0ae7ef7e6dd1",
   "metadata": {},
   "outputs": [
    {
     "data": {
      "text/plain": [
       "(3.7857863233209255, 0.0001532232957772221)"
      ]
     },
     "execution_count": 75,
     "metadata": {},
     "output_type": "execute_result"
    }
   ],
   "source": [
    "proportions_ztest(count = basari_sayisi, nobs = gozlem_sayilari)"
   ]
  },
  {
   "cell_type": "markdown",
   "id": "c949ce90-e79a-463f-b558-cc02fd83f95c",
   "metadata": {},
   "source": [
    "# Varyans Analizi"
   ]
  },
  {
   "cell_type": "markdown",
   "id": "e20f9a17-0df0-47ec-8c20-10afe1413946",
   "metadata": {},
   "source": [
    "İki ya da daha fazla grup ortalaması arasında istatiksel olarak anlamlı farklılık olup olmadığını öğrenilmek istenildiğinde kullanılır."
   ]
  },
  {
   "cell_type": "markdown",
   "id": "9c494469-ecab-45e9-ac1b-7afe475c8360",
   "metadata": {},
   "source": [
    "H0: M1 = M2 = M3\n",
    "\n",
    "H1: Eşit Değillerdir(En az birisi farklıdır)"
   ]
  },
  {
   "cell_type": "markdown",
   "id": "b56110de-e085-451e-95d6-076e0e23d127",
   "metadata": {},
   "source": [
    "Fs = MS(between)/MS(within)"
   ]
  },
  {
   "cell_type": "markdown",
   "id": "50f253b0-7614-4d54-ae67-84074fea1e64",
   "metadata": {},
   "source": [
    "* Varsayımlar\n",
    "    * Gözlemlerin birbirinden bağımsız olması(grupların)\n",
    "    * Normal Dağılım\n",
    "    * Varyans Homojenliği"
   ]
  },
  {
   "cell_type": "markdown",
   "id": "7884b617-db82-459a-85b8-a543b2d3fe7b",
   "metadata": {},
   "source": [
    "## İş Uygulaması: Anasayfa İçerik Stratejisi Belirlemek"
   ]
  },
  {
   "cell_type": "markdown",
   "id": "0f74ec7c-1dd2-488a-986e-b6121c914cf3",
   "metadata": {},
   "source": [
    "* Problem:\n",
    "    * Anasayfa'da geçirilen süre artırılmak isteniyor.\n",
    "* Detaylar:\n",
    "    * Bir web sitesi için başarı kriterleri: ortalama ziyaret süresi, hemen çıkış oranı vb\n",
    "    * Uzun zaman geçirenkullanıcıların reklamlara daha fazla tıkladığı ve markaya olan bağlılıklarının arttığı biliniyor.\n",
    "    * Buna yönelik olarak benzer haberler farklı resimler ya da farklı formatlarda hazırlanarak oluşturulan test gruplarına gösteriliyor.\n",
    "    * A: Doğal Şekilde, B: Yönlendirici, C: İlgi Çekici"
   ]
  },
  {
   "cell_type": "code",
   "execution_count": 21,
   "id": "73419338-4dfa-42a9-bbb3-71979710c835",
   "metadata": {},
   "outputs": [
    {
     "data": {
      "text/html": [
       "<div>\n",
       "<style scoped>\n",
       "    .dataframe tbody tr th:only-of-type {\n",
       "        vertical-align: middle;\n",
       "    }\n",
       "\n",
       "    .dataframe tbody tr th {\n",
       "        vertical-align: top;\n",
       "    }\n",
       "\n",
       "    .dataframe thead th {\n",
       "        text-align: right;\n",
       "    }\n",
       "</style>\n",
       "<table border=\"1\" class=\"dataframe\">\n",
       "  <thead>\n",
       "    <tr style=\"text-align: right;\">\n",
       "      <th></th>\n",
       "      <th>GRUP_A</th>\n",
       "      <th>GRUP_B</th>\n",
       "      <th>GRUP_C</th>\n",
       "    </tr>\n",
       "  </thead>\n",
       "  <tbody>\n",
       "    <tr>\n",
       "      <th>0</th>\n",
       "      <td>28</td>\n",
       "      <td>31</td>\n",
       "      <td>40</td>\n",
       "    </tr>\n",
       "    <tr>\n",
       "      <th>1</th>\n",
       "      <td>33</td>\n",
       "      <td>32</td>\n",
       "      <td>33</td>\n",
       "    </tr>\n",
       "    <tr>\n",
       "      <th>2</th>\n",
       "      <td>30</td>\n",
       "      <td>30</td>\n",
       "      <td>38</td>\n",
       "    </tr>\n",
       "    <tr>\n",
       "      <th>3</th>\n",
       "      <td>29</td>\n",
       "      <td>30</td>\n",
       "      <td>41</td>\n",
       "    </tr>\n",
       "    <tr>\n",
       "      <th>4</th>\n",
       "      <td>28</td>\n",
       "      <td>33</td>\n",
       "      <td>42</td>\n",
       "    </tr>\n",
       "  </tbody>\n",
       "</table>\n",
       "</div>"
      ],
      "text/plain": [
       "   GRUP_A  GRUP_B  GRUP_C\n",
       "0      28      31      40\n",
       "1      33      32      33\n",
       "2      30      30      38\n",
       "3      29      30      41\n",
       "4      28      33      42"
      ]
     },
     "execution_count": 21,
     "metadata": {},
     "output_type": "execute_result"
    }
   ],
   "source": [
    "A = pd.DataFrame([28,33,30,29,28,29,27,31,30,32,28,33,25,29,27,31,31,30,31,34,30,32,31,34,28,32,31,28,33,29])\n",
    "\n",
    "B = pd.DataFrame([31,32,30,30,33,32,34,27,36,30,31,30,38,29,30,34,34,31,35,35,33,30,28,29,26,37,31,28,34,33])\n",
    "\n",
    "C = pd.DataFrame([40,33,38,41,42,43,38,35,39,39,36,34,35,40,38,36,39,36,33,35,38,35,40,40,39,38,38,43,40,42])\n",
    "\n",
    "dfs = [A, B, C]\n",
    "\n",
    "ABC = pd.concat(dfs, axis = 1)\n",
    "ABC.columns = [\"GRUP_A\",\"GRUP_B\",\"GRUP_C\"]\n",
    "ABC.head()"
   ]
  },
  {
   "cell_type": "markdown",
   "id": "620822b1-c15f-4fdb-9697-956ccf661324",
   "metadata": {},
   "source": [
    "### Varsayım Kontrolü"
   ]
  },
  {
   "cell_type": "code",
   "execution_count": 22,
   "id": "6d7516eb-03f1-4f40-a4c3-ee7f5af27a05",
   "metadata": {},
   "outputs": [],
   "source": [
    "from scipy.stats import shapiro"
   ]
  },
  {
   "cell_type": "code",
   "execution_count": 24,
   "id": "0b6d7f89-80ef-475a-a06f-28a0e3f05c72",
   "metadata": {},
   "outputs": [
    {
     "data": {
      "text/plain": [
       "ShapiroResult(statistic=0.9697431921958923, pvalue=0.5321715474128723)"
      ]
     },
     "execution_count": 24,
     "metadata": {},
     "output_type": "execute_result"
    }
   ],
   "source": [
    "shapiro(ABC[\"GRUP_A\"])"
   ]
  },
  {
   "cell_type": "code",
   "execution_count": 28,
   "id": "6d8c4fc0-8bca-4229-af36-94dc451c1271",
   "metadata": {},
   "outputs": [
    {
     "data": {
      "text/plain": [
       "ShapiroResult(statistic=0.9789854884147644, pvalue=0.7979801297187805)"
      ]
     },
     "execution_count": 28,
     "metadata": {},
     "output_type": "execute_result"
    }
   ],
   "source": [
    "shapiro(ABC[\"GRUP_B\"])"
   ]
  },
  {
   "cell_type": "code",
   "execution_count": 27,
   "id": "ec90e327-7058-434e-9dd8-03fc437d7e42",
   "metadata": {},
   "outputs": [
    {
     "data": {
      "text/plain": [
       "ShapiroResult(statistic=0.9579201340675354, pvalue=0.273820161819458)"
      ]
     },
     "execution_count": 27,
     "metadata": {},
     "output_type": "execute_result"
    }
   ],
   "source": [
    "shapiro(ABC[\"GRUP_C\"])"
   ]
  },
  {
   "cell_type": "code",
   "execution_count": 29,
   "id": "b5948ea9-ece1-4ed8-8a6f-082d209fa5c0",
   "metadata": {},
   "outputs": [
    {
     "data": {
      "text/plain": [
       "LeveneResult(statistic=1.0267403645055275, pvalue=0.36247110117417064)"
      ]
     },
     "execution_count": 29,
     "metadata": {},
     "output_type": "execute_result"
    }
   ],
   "source": [
    "stats.levene(ABC[\"GRUP_A\"],ABC[\"GRUP_B\"], ABC[\"GRUP_C\"])"
   ]
  },
  {
   "cell_type": "markdown",
   "id": "285cce8d-bba2-48a4-8daf-49324ec44fea",
   "metadata": {},
   "source": [
    "## Hipotez Testi"
   ]
  },
  {
   "cell_type": "code",
   "execution_count": 30,
   "id": "68526e68-c087-4898-9c8e-eebc14e59349",
   "metadata": {},
   "outputs": [],
   "source": [
    "from scipy.stats import f_oneway"
   ]
  },
  {
   "cell_type": "code",
   "execution_count": 31,
   "id": "df257da1-d2aa-45e5-b7c6-1e4312a2987d",
   "metadata": {},
   "outputs": [
    {
     "data": {
      "text/plain": [
       "F_onewayResult(statistic=74.69278140730431, pvalue=1.3079050746811477e-19)"
      ]
     },
     "execution_count": 31,
     "metadata": {},
     "output_type": "execute_result"
    }
   ],
   "source": [
    "f_oneway(ABC[\"GRUP_A\"],ABC[\"GRUP_B\"], ABC[\"GRUP_C\"])"
   ]
  },
  {
   "cell_type": "code",
   "execution_count": 34,
   "id": "f3324e4a-08f3-44fc-9acb-da159f1d5fd5",
   "metadata": {},
   "outputs": [
    {
     "name": "stdout",
     "output_type": "stream",
     "text": [
      "p-value değeri: 0.00000\n"
     ]
    }
   ],
   "source": [
    "print(\"p-value değeri: \" + '{:.5f}'.format(f_oneway(ABC[\"GRUP_A\"], ABC[\"GRUP_B\"],ABC[\"GRUP_C\"])[1]))"
   ]
  },
  {
   "cell_type": "code",
   "execution_count": 37,
   "id": "0b5639ca-81ac-486a-8829-e2b4f2410221",
   "metadata": {},
   "outputs": [
    {
     "name": "stdout",
     "output_type": "stream",
     "text": [
      "İstatistik değeri: 74.69278\n"
     ]
    }
   ],
   "source": [
    "print(\"İstatistik değeri: \"+ '{:.5f}'.format(f_oneway(ABC[\"GRUP_A\"], ABC[\"GRUP_B\"],ABC[\"GRUP_C\"])[0]))"
   ]
  },
  {
   "cell_type": "code",
   "execution_count": 38,
   "id": "9492c7aa-1d91-4259-af84-5aceabe69a0b",
   "metadata": {},
   "outputs": [
    {
     "data": {
      "text/html": [
       "<div>\n",
       "<style scoped>\n",
       "    .dataframe tbody tr th:only-of-type {\n",
       "        vertical-align: middle;\n",
       "    }\n",
       "\n",
       "    .dataframe tbody tr th {\n",
       "        vertical-align: top;\n",
       "    }\n",
       "\n",
       "    .dataframe thead th {\n",
       "        text-align: right;\n",
       "    }\n",
       "</style>\n",
       "<table border=\"1\" class=\"dataframe\">\n",
       "  <thead>\n",
       "    <tr style=\"text-align: right;\">\n",
       "      <th></th>\n",
       "      <th>count</th>\n",
       "      <th>mean</th>\n",
       "      <th>std</th>\n",
       "      <th>min</th>\n",
       "      <th>25%</th>\n",
       "      <th>50%</th>\n",
       "      <th>75%</th>\n",
       "      <th>max</th>\n",
       "    </tr>\n",
       "  </thead>\n",
       "  <tbody>\n",
       "    <tr>\n",
       "      <th>GRUP_A</th>\n",
       "      <td>30.0</td>\n",
       "      <td>30.133333</td>\n",
       "      <td>2.224214</td>\n",
       "      <td>25.0</td>\n",
       "      <td>28.25</td>\n",
       "      <td>30.0</td>\n",
       "      <td>31.75</td>\n",
       "      <td>34.0</td>\n",
       "    </tr>\n",
       "    <tr>\n",
       "      <th>GRUP_B</th>\n",
       "      <td>30.0</td>\n",
       "      <td>31.700000</td>\n",
       "      <td>2.937862</td>\n",
       "      <td>26.0</td>\n",
       "      <td>30.00</td>\n",
       "      <td>31.0</td>\n",
       "      <td>34.00</td>\n",
       "      <td>38.0</td>\n",
       "    </tr>\n",
       "    <tr>\n",
       "      <th>GRUP_C</th>\n",
       "      <td>30.0</td>\n",
       "      <td>38.100000</td>\n",
       "      <td>2.808239</td>\n",
       "      <td>33.0</td>\n",
       "      <td>36.00</td>\n",
       "      <td>38.0</td>\n",
       "      <td>40.00</td>\n",
       "      <td>43.0</td>\n",
       "    </tr>\n",
       "  </tbody>\n",
       "</table>\n",
       "</div>"
      ],
      "text/plain": [
       "        count       mean       std   min    25%   50%    75%   max\n",
       "GRUP_A   30.0  30.133333  2.224214  25.0  28.25  30.0  31.75  34.0\n",
       "GRUP_B   30.0  31.700000  2.937862  26.0  30.00  31.0  34.00  38.0\n",
       "GRUP_C   30.0  38.100000  2.808239  33.0  36.00  38.0  40.00  43.0"
      ]
     },
     "execution_count": 38,
     "metadata": {},
     "output_type": "execute_result"
    }
   ],
   "source": [
    "ABC.describe().T"
   ]
  },
  {
   "cell_type": "code",
   "execution_count": 42,
   "id": "70405bc2-2f0f-4534-a9ce-258176129b90",
   "metadata": {},
   "outputs": [
    {
     "data": {
      "image/png": "[encoded data removed]",
      "text/plain": [
       "<Figure size 432x288 with 1 Axes>"
      ]
     },
     "metadata": {
      "needs_background": "light"
     },
     "output_type": "display_data"
    }
   ],
   "source": [
    "import seaborn as sns\n",
    "sns.boxplot(data = ABC);"
   ]
  },
  {
   "cell_type": "markdown",
   "id": "5930f641-9192-4252-b60f-afb9003ef6ee",
   "metadata": {},
   "source": [
    "## Nonparametrik Hipotez Testi"
   ]
  },
  {
   "cell_type": "code",
   "execution_count": 43,
   "id": "569ca1a0-62f8-4ff6-8e79-16f96138ce85",
   "metadata": {},
   "outputs": [],
   "source": [
    "from scipy.stats import kruskal"
   ]
  },
  {
   "cell_type": "code",
   "execution_count": 46,
   "id": "3b4f49ab-ce8a-4570-ae45-526fd8c21712",
   "metadata": {},
   "outputs": [
    {
     "data": {
      "text/plain": [
       "KruskalResult(statistic=54.19819735523783, pvalue=1.7022015426175926e-12)"
      ]
     },
     "execution_count": 46,
     "metadata": {},
     "output_type": "execute_result"
    }
   ],
   "source": [
    "kruskal(ABC[\"GRUP_A\"],ABC[\"GRUP_B\"], ABC[\"GRUP_C\"])"
   ]
  },
  {
   "cell_type": "code",
   "execution_count": 45,
   "id": "34739d8f-7aa3-4990-b6b2-9cfeaf60eabc",
   "metadata": {},
   "outputs": [
    {
     "name": "stdout",
     "output_type": "stream",
     "text": [
      "Test İstatistiği = 54.19820, p-değeri = 0.00000\n"
     ]
    }
   ],
   "source": [
    "test_istatistigi, pvalue = stats.kruskal(ABC[\"GRUP_A\"],ABC[\"GRUP_B\"], ABC[\"GRUP_C\"])\n",
    "print('Test İstatistiği = %.5f, p-değeri = %.5f' % (test_istatistigi, pvalue))"
   ]
  },
  {
   "cell_type": "markdown",
   "id": "11965825-1b1e-40c1-b430-2963703bf431",
   "metadata": {},
   "source": [
    "# Korelasyon Analizi"
   ]
  },
  {
   "cell_type": "markdown",
   "id": "8fc6aaa4-fa6d-487f-b073-a049d5183ff8",
   "metadata": {},
   "source": [
    "* Değişkenler arasındaki ilişki, bu ilişkinin yönü ve şiddeti ile ilgili bilgiler sağlayan istatistiksel bir yöntemdir."
   ]
  },
  {
   "attachments": {
    "e84da694-5a9b-4a4e-8f11-ce47eee5c32b.png": {
     "image/png": "[encoded data removed]"
    }
   },
   "cell_type": "markdown",
   "id": "c9b9234f-b6e5-4ef1-9d36-039e73aa2948",
   "metadata": {},
   "source": [
    "![image.png](attachment:e84da694-5a9b-4a4e-8f11-ce47eee5c32b.png)"
   ]
  },
  {
   "attachments": {
    "d926e3df-5fe0-418d-a5ef-728aabf60411.png": {
     "image/png": "[encoded data removed]"
    }
   },
   "cell_type": "markdown",
   "id": "80b507a9-9dbf-4e42-a705-f65dcdce5ac6",
   "metadata": {},
   "source": [
    "![image.png](attachment:d926e3df-5fe0-418d-a5ef-728aabf60411.png)"
   ]
  },
  {
   "cell_type": "markdown",
   "id": "6ff5a9c0-2a42-446d-bcc0-3332a5f5fc80",
   "metadata": {},
   "source": [
    "**Korelasyonun Anlamlılığı Testi:**\n",
    "\n",
    "H0: p = 0\n",
    "\n",
    "H1: p != 0"
   ]
  },
  {
   "attachments": {
    "296d34e2-d318-4f32-8040-2ed8828a3f5c.png": {
     "image/png": "[encoded data removed]"
    }
   },
   "cell_type": "markdown",
   "id": "abf2623a-a265-49ec-9032-c6e865520857",
   "metadata": {},
   "source": [
    "**Test İstatistiği:**\n",
    "\n",
    "![image.png](attachment:296d34e2-d318-4f32-8040-2ed8828a3f5c.png)"
   ]
  },
  {
   "cell_type": "markdown",
   "id": "54aff1a0-a2d8-4c1b-86ea-70aeecb8d07e",
   "metadata": {},
   "source": [
    "**Varsayımlar**\n",
    "* İki değişken içinde normallik varsayımı\n",
    "* Varsayım sağlanıyorsa Pearson Korelasyon Katsayısı\n",
    "* Varsayım sağlanmıyorsa Spearman Korelasyon Katsayısı"
   ]
  },
  {
   "cell_type": "markdown",
   "id": "73a58dde-205c-45f9-9a47-3b5ea27eb5be",
   "metadata": {},
   "source": [
    "## İş Uygulaması: Bahşiş ile Hesap Arasındaki İlişkinin İncelenmesi "
   ]
  },
  {
   "cell_type": "markdown",
   "id": "e7ab2965-b4b1-491e-a433-8dabb6dcbcfe",
   "metadata": {},
   "source": [
    "H0: p = 0\n",
    "\n",
    "H1: p != 0"
   ]
  },
  {
   "cell_type": "markdown",
   "id": "e5ded292-7981-41ed-a277-9f938177664f",
   "metadata": {},
   "source": [
    "**Bahşiş veri seti:**\n",
    "\n",
    "* total_bill: yemeğin toplam fiyatı (bahşiş ve vergi dahil)\n",
    "\n",
    "* tip: bahşiş\n",
    "\n",
    "* sex: ücreti ödeyen kişinin cinsiyeti (0=male, 1=female)\n",
    "\n",
    "* smoker: grupta sigara içen var mı? (0=No, 1=Yes)\n",
    "\n",
    "* day: gün (3=Thur, 4=Fri, 5=Sat, 6=Sun)\n",
    "\n",
    "* time: ne zaman? (0=Day, 1=Night)\n",
    "\n",
    "* size: grupta kaç kişi var?"
   ]
  },
  {
   "cell_type": "code",
   "execution_count": 48,
   "id": "c8ce76b0-1260-4601-9a86-991751064df9",
   "metadata": {},
   "outputs": [
    {
     "data": {
      "text/html": [
       "<div>\n",
       "<style scoped>\n",
       "    .dataframe tbody tr th:only-of-type {\n",
       "        vertical-align: middle;\n",
       "    }\n",
       "\n",
       "    .dataframe tbody tr th {\n",
       "        vertical-align: top;\n",
       "    }\n",
       "\n",
       "    .dataframe thead th {\n",
       "        text-align: right;\n",
       "    }\n",
       "</style>\n",
       "<table border=\"1\" class=\"dataframe\">\n",
       "  <thead>\n",
       "    <tr style=\"text-align: right;\">\n",
       "      <th></th>\n",
       "      <th>total_bill</th>\n",
       "      <th>tip</th>\n",
       "      <th>sex</th>\n",
       "      <th>smoker</th>\n",
       "      <th>day</th>\n",
       "      <th>time</th>\n",
       "      <th>size</th>\n",
       "    </tr>\n",
       "  </thead>\n",
       "  <tbody>\n",
       "    <tr>\n",
       "      <th>0</th>\n",
       "      <td>16.99</td>\n",
       "      <td>1.01</td>\n",
       "      <td>Female</td>\n",
       "      <td>No</td>\n",
       "      <td>Sun</td>\n",
       "      <td>Dinner</td>\n",
       "      <td>2</td>\n",
       "    </tr>\n",
       "    <tr>\n",
       "      <th>1</th>\n",
       "      <td>10.34</td>\n",
       "      <td>1.66</td>\n",
       "      <td>Male</td>\n",
       "      <td>No</td>\n",
       "      <td>Sun</td>\n",
       "      <td>Dinner</td>\n",
       "      <td>3</td>\n",
       "    </tr>\n",
       "    <tr>\n",
       "      <th>2</th>\n",
       "      <td>21.01</td>\n",
       "      <td>3.50</td>\n",
       "      <td>Male</td>\n",
       "      <td>No</td>\n",
       "      <td>Sun</td>\n",
       "      <td>Dinner</td>\n",
       "      <td>3</td>\n",
       "    </tr>\n",
       "    <tr>\n",
       "      <th>3</th>\n",
       "      <td>23.68</td>\n",
       "      <td>3.31</td>\n",
       "      <td>Male</td>\n",
       "      <td>No</td>\n",
       "      <td>Sun</td>\n",
       "      <td>Dinner</td>\n",
       "      <td>2</td>\n",
       "    </tr>\n",
       "    <tr>\n",
       "      <th>4</th>\n",
       "      <td>24.59</td>\n",
       "      <td>3.61</td>\n",
       "      <td>Female</td>\n",
       "      <td>No</td>\n",
       "      <td>Sun</td>\n",
       "      <td>Dinner</td>\n",
       "      <td>4</td>\n",
       "    </tr>\n",
       "  </tbody>\n",
       "</table>\n",
       "</div>"
      ],
      "text/plain": [
       "   total_bill   tip     sex smoker  day    time  size\n",
       "0       16.99  1.01  Female     No  Sun  Dinner     2\n",
       "1       10.34  1.66    Male     No  Sun  Dinner     3\n",
       "2       21.01  3.50    Male     No  Sun  Dinner     3\n",
       "3       23.68  3.31    Male     No  Sun  Dinner     2\n",
       "4       24.59  3.61  Female     No  Sun  Dinner     4"
      ]
     },
     "execution_count": 48,
     "metadata": {},
     "output_type": "execute_result"
    }
   ],
   "source": [
    "import seaborn as sns\n",
    "tips = sns.load_dataset('tips')\n",
    "df = tips.copy()\n",
    "df.head()"
   ]
  },
  {
   "cell_type": "code",
   "execution_count": 49,
   "id": "c4d9e367-c47b-4fa8-89cd-eb5bab21f0f3",
   "metadata": {},
   "outputs": [],
   "source": [
    "df[\"total_bill\"] = df[\"total_bill\"] - df[\"tip\"]"
   ]
  },
  {
   "cell_type": "code",
   "execution_count": 54,
   "id": "a43ed99b-26eb-4bb3-87d1-8c367e115a07",
   "metadata": {},
   "outputs": [
    {
     "data": {
      "text/html": [
       "<div>\n",
       "<style scoped>\n",
       "    .dataframe tbody tr th:only-of-type {\n",
       "        vertical-align: middle;\n",
       "    }\n",
       "\n",
       "    .dataframe tbody tr th {\n",
       "        vertical-align: top;\n",
       "    }\n",
       "\n",
       "    .dataframe thead th {\n",
       "        text-align: right;\n",
       "    }\n",
       "</style>\n",
       "<table border=\"1\" class=\"dataframe\">\n",
       "  <thead>\n",
       "    <tr style=\"text-align: right;\">\n",
       "      <th></th>\n",
       "      <th>total_bill</th>\n",
       "      <th>tip</th>\n",
       "      <th>sex</th>\n",
       "      <th>smoker</th>\n",
       "      <th>day</th>\n",
       "      <th>time</th>\n",
       "      <th>size</th>\n",
       "    </tr>\n",
       "  </thead>\n",
       "  <tbody>\n",
       "    <tr>\n",
       "      <th>0</th>\n",
       "      <td>15.98</td>\n",
       "      <td>1.01</td>\n",
       "      <td>Female</td>\n",
       "      <td>No</td>\n",
       "      <td>Sun</td>\n",
       "      <td>Dinner</td>\n",
       "      <td>2</td>\n",
       "    </tr>\n",
       "    <tr>\n",
       "      <th>1</th>\n",
       "      <td>8.68</td>\n",
       "      <td>1.66</td>\n",
       "      <td>Male</td>\n",
       "      <td>No</td>\n",
       "      <td>Sun</td>\n",
       "      <td>Dinner</td>\n",
       "      <td>3</td>\n",
       "    </tr>\n",
       "    <tr>\n",
       "      <th>2</th>\n",
       "      <td>17.51</td>\n",
       "      <td>3.50</td>\n",
       "      <td>Male</td>\n",
       "      <td>No</td>\n",
       "      <td>Sun</td>\n",
       "      <td>Dinner</td>\n",
       "      <td>3</td>\n",
       "    </tr>\n",
       "    <tr>\n",
       "      <th>3</th>\n",
       "      <td>20.37</td>\n",
       "      <td>3.31</td>\n",
       "      <td>Male</td>\n",
       "      <td>No</td>\n",
       "      <td>Sun</td>\n",
       "      <td>Dinner</td>\n",
       "      <td>2</td>\n",
       "    </tr>\n",
       "    <tr>\n",
       "      <th>4</th>\n",
       "      <td>20.98</td>\n",
       "      <td>3.61</td>\n",
       "      <td>Female</td>\n",
       "      <td>No</td>\n",
       "      <td>Sun</td>\n",
       "      <td>Dinner</td>\n",
       "      <td>4</td>\n",
       "    </tr>\n",
       "  </tbody>\n",
       "</table>\n",
       "</div>"
      ],
      "text/plain": [
       "   total_bill   tip     sex smoker  day    time  size\n",
       "0       15.98  1.01  Female     No  Sun  Dinner     2\n",
       "1        8.68  1.66    Male     No  Sun  Dinner     3\n",
       "2       17.51  3.50    Male     No  Sun  Dinner     3\n",
       "3       20.37  3.31    Male     No  Sun  Dinner     2\n",
       "4       20.98  3.61  Female     No  Sun  Dinner     4"
      ]
     },
     "execution_count": 54,
     "metadata": {},
     "output_type": "execute_result"
    }
   ],
   "source": [
    "df.head()"
   ]
  },
  {
   "cell_type": "code",
   "execution_count": 56,
   "id": "6a13a54a-1bac-4d31-bc10-a69c6141f808",
   "metadata": {},
   "outputs": [
    {
     "data": {
      "image/png": "[encoded data removed]",
      "text/plain": [
       "<Figure size 432x288 with 1 Axes>"
      ]
     },
     "metadata": {
      "needs_background": "light"
     },
     "output_type": "display_data"
    }
   ],
   "source": [
    "df.plot.scatter(\"tip\",\"total_bill\");"
   ]
  },
  {
   "cell_type": "markdown",
   "id": "9f34581f-143f-4ad2-9cfa-4ddf32cad542",
   "metadata": {},
   "source": [
    "## Varsayım Kontrolü"
   ]
  },
  {
   "cell_type": "code",
   "execution_count": 57,
   "id": "6796d08d-c3aa-4acf-893f-767cf79bfc08",
   "metadata": {},
   "outputs": [],
   "source": [
    "from scipy.stats import shapiro"
   ]
  },
  {
   "cell_type": "code",
   "execution_count": 58,
   "id": "23377c34-35bd-49f1-9306-8549fa97ebfa",
   "metadata": {},
   "outputs": [
    {
     "name": "stdout",
     "output_type": "stream",
     "text": [
      "Test İstatistiği = 0.8978, p-değeri = 0.0000\n",
      "Test İstatistiği = 0.9136, p-değeri = 0.0000\n"
     ]
    }
   ],
   "source": [
    "test_istatistigi, pvalue = shapiro(df[\"tip\"])\n",
    "print('Test İstatistiği = %.4f, p-değeri = %.4f' % (test_istatistigi, pvalue))\n",
    "\n",
    "test_istatistigi, pvalue = shapiro(df[\"total_bill\"])\n",
    "print('Test İstatistiği = %.4f, p-değeri = %.4f' % (test_istatistigi, pvalue))"
   ]
  },
  {
   "cell_type": "markdown",
   "id": "ff6205a1-cd21-42d3-8b32-3a94c36021ca",
   "metadata": {
    "tags": []
   },
   "source": [
    "## Hipotez Testi"
   ]
  },
  {
   "cell_type": "markdown",
   "id": "166fef09-bf5d-4efc-851c-f7781502d60a",
   "metadata": {
    "tags": []
   },
   "source": [
    "### Korelasyon Katsayısı"
   ]
  },
  {
   "cell_type": "code",
   "execution_count": 60,
   "id": "e48183b9-6c91-4f7a-9b9b-0585ba037972",
   "metadata": {},
   "outputs": [
    {
     "data": {
      "text/plain": [
       "0.5766634471096381"
      ]
     },
     "execution_count": 60,
     "metadata": {},
     "output_type": "execute_result"
    }
   ],
   "source": [
    "df[\"tip\"].corr(df[\"total_bill\"])"
   ]
  },
  {
   "cell_type": "code",
   "execution_count": 61,
   "id": "600bbb79-3291-49a1-8afc-5f1ff3e7be04",
   "metadata": {},
   "outputs": [
    {
     "data": {
      "text/plain": [
       "0.593691939408997"
      ]
     },
     "execution_count": 61,
     "metadata": {},
     "output_type": "execute_result"
    }
   ],
   "source": [
    "df[\"tip\"].corr(df[\"total_bill\"], method = \"spearman\")"
   ]
  },
  {
   "cell_type": "markdown",
   "id": "682a4176-3932-42ef-8976-cea0ada92ad9",
   "metadata": {},
   "source": [
    "### Korelasyonunu Anlamlılığının Testi"
   ]
  },
  {
   "cell_type": "code",
   "execution_count": 62,
   "id": "b984e201-4b49-4cec-a1ae-5c6b70013fa7",
   "metadata": {},
   "outputs": [],
   "source": [
    "from scipy.stats.stats import pearsonr"
   ]
  },
  {
   "cell_type": "code",
   "execution_count": 63,
   "id": "14b4b053-c01b-4585-9cf4-59c641b7b686",
   "metadata": {},
   "outputs": [
    {
     "name": "stdout",
     "output_type": "stream",
     "text": [
      "Korelasyon Katsayısı = 0.5767, p-değeri = 0.0000\n"
     ]
    }
   ],
   "source": [
    "test_istatistigi, pvalue = pearsonr(df[\"tip\"],df[\"total_bill\"])\n",
    "\n",
    "print('Korelasyon Katsayısı = %.4f, p-değeri = %.4f' % (test_istatistigi, pvalue))"
   ]
  },
  {
   "cell_type": "markdown",
   "id": "b6498dc4-f2a1-4926-9dfc-67d5df1c8a98",
   "metadata": {},
   "source": [
    "### Nonparametrik Hipotez Testi"
   ]
  },
  {
   "cell_type": "code",
   "execution_count": 65,
   "id": "7a47d302-0744-43ef-bf58-6348a312fa2f",
   "metadata": {},
   "outputs": [],
   "source": [
    "from scipy.stats import stats"
   ]
  },
  {
   "cell_type": "code",
   "execution_count": 67,
   "id": "86518ef5-4c26-4d29-a9ee-703dcd7bbd57",
   "metadata": {},
   "outputs": [
    {
     "data": {
      "text/plain": [
       "SpearmanrResult(correlation=0.593691939408997, pvalue=1.2452285137560276e-24)"
      ]
     },
     "execution_count": 67,
     "metadata": {},
     "output_type": "execute_result"
    }
   ],
   "source": [
    "stats.spearmanr(df[\"tip\"],df[\"total_bill\"])"
   ]
  },
  {
   "cell_type": "code",
   "execution_count": 76,
   "id": "89d3f226-5400-47dc-94f3-f9f6ef835f40",
   "metadata": {},
   "outputs": [
    {
     "name": "stdout",
     "output_type": "stream",
     "text": [
      "Korelasyon Katsayısı = 0.5937, p-değeri = 0.0000\n"
     ]
    }
   ],
   "source": [
    "test_istatistigi, pvalue = stats.spearmanr(df[\"tip\"],df[\"total_bill\"])\n",
    "\n",
    "print('Korelasyon Katsayısı = %.4f, p-değeri = %.4f' % (test_istatistigi, pvalue))"
   ]
  },
  {
   "cell_type": "code",
   "execution_count": 77,
   "id": "c7dab1b0-12b6-4515-aaf9-7dfc00bc5e2a",
   "metadata": {},
   "outputs": [
    {
     "name": "stdout",
     "output_type": "stream",
     "text": [
      "Korelasyon Katsayısı = 0.4401, p-değeri = 0.0000\n"
     ]
    }
   ],
   "source": [
    "test_istatistigi, pvalue = stats.kendalltau(df[\"tip\"],df[\"total_bill\"])\n",
    "\n",
    "print('Korelasyon Katsayısı = %.4f, p-değeri = %.4f' % (test_istatistigi, pvalue))"
   ]
  }
 ],
 "metadata": {
  "kernelspec": {
   "display_name": "Python 3 (ipykernel)",
   "language": "python",
   "name": "python3"
  },
  "language_info": {
   "codemirror_mode": {
    "name": "ipython",
    "version": 3
   },
   "file_extension": ".py",
   "mimetype": "text/x-python",
   "name": "python",
   "nbconvert_exporter": "python",
   "pygments_lexer": "ipython3",
   "version": "3.9.7"
  }
 },
 "nbformat": 4,
 "nbformat_minor": 5
}

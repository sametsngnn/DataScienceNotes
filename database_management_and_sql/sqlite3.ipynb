{
 "cells": [
  {
   "cell_type": "markdown",
   "id": "8266c394-b61b-4ffb-9d8f-fa01430287b6",
   "metadata": {},
   "source": [
    "# sqlite3"
   ]
  },
  {
   "cell_type": "code",
   "execution_count": 8,
   "id": "49b907d8-208c-4ef9-8346-5fa22d45c915",
   "metadata": {},
   "outputs": [],
   "source": [
    "import sqlite3\n",
    "import pandas as pd"
   ]
  },
  {
   "cell_type": "code",
   "execution_count": 2,
   "id": "62e463ee-2879-4c00-811b-3ed79fc01f93",
   "metadata": {},
   "outputs": [],
   "source": [
    "conn = sqlite3.connect('vbo.db')"
   ]
  },
  {
   "cell_type": "code",
   "execution_count": 3,
   "id": "88b4927e-ab03-486f-bc28-4bb8c7a44a3f",
   "metadata": {},
   "outputs": [
    {
     "data": {
      "text/plain": [
       "\u001b[0;31mCall signature:\u001b[0m \u001b[0mconn\u001b[0m\u001b[0;34m(\u001b[0m\u001b[0;34m*\u001b[0m\u001b[0margs\u001b[0m\u001b[0;34m,\u001b[0m \u001b[0;34m**\u001b[0m\u001b[0mkwargs\u001b[0m\u001b[0;34m)\u001b[0m\u001b[0;34m\u001b[0m\u001b[0;34m\u001b[0m\u001b[0m\n",
       "\u001b[0;31mType:\u001b[0m           Connection\n",
       "\u001b[0;31mString form:\u001b[0m    <sqlite3.Connection object at 0x7fd3a035a5d0>\n",
       "\u001b[0;31mFile:\u001b[0m           /opt/anaconda3/lib/python3.9/sqlite3/__init__.py\n",
       "\u001b[0;31mDocstring:\u001b[0m      SQLite database connection object.\n"
      ]
     },
     "metadata": {},
     "output_type": "display_data"
    }
   ],
   "source": [
    "?conn"
   ]
  },
  {
   "cell_type": "code",
   "execution_count": 4,
   "id": "8ddd353b-a714-4cef-b030-61fc586874be",
   "metadata": {},
   "outputs": [],
   "source": [
    "c = conn.cursor()"
   ]
  },
  {
   "cell_type": "code",
   "execution_count": 7,
   "id": "b437a0a4-3db8-46a7-9cce-e1c909499cfe",
   "metadata": {},
   "outputs": [
    {
     "data": {
      "text/plain": [
       "\u001b[0;31mType:\u001b[0m        Cursor\n",
       "\u001b[0;31mString form:\u001b[0m <sqlite3.Cursor object at 0x7fd3a037b2d0>\n",
       "\u001b[0;31mFile:\u001b[0m        /opt/anaconda3/lib/python3.9/sqlite3/__init__.py\n",
       "\u001b[0;31mDocstring:\u001b[0m   SQLite database cursor class.\n"
      ]
     },
     "metadata": {},
     "output_type": "display_data"
    }
   ],
   "source": [
    "?c"
   ]
  },
  {
   "cell_type": "code",
   "execution_count": 10,
   "id": "fccb5eb7-8c23-4a83-9bc3-78cf20ed2b01",
   "metadata": {
    "collapsed": true,
    "jupyter": {
     "outputs_hidden": true
    },
    "tags": []
   },
   "outputs": [
    {
     "data": {
      "text/plain": [
       "\u001b[0;31mSignature:\u001b[0m\n",
       "\u001b[0mpd\u001b[0m\u001b[0;34m.\u001b[0m\u001b[0mread_sql\u001b[0m\u001b[0;34m(\u001b[0m\u001b[0;34m\u001b[0m\n",
       "\u001b[0;34m\u001b[0m    \u001b[0msql\u001b[0m\u001b[0;34m,\u001b[0m\u001b[0;34m\u001b[0m\n",
       "\u001b[0;34m\u001b[0m    \u001b[0mcon\u001b[0m\u001b[0;34m,\u001b[0m\u001b[0;34m\u001b[0m\n",
       "\u001b[0;34m\u001b[0m    \u001b[0mindex_col\u001b[0m\u001b[0;34m:\u001b[0m \u001b[0;34m'str | Sequence[str] | None'\u001b[0m \u001b[0;34m=\u001b[0m \u001b[0;32mNone\u001b[0m\u001b[0;34m,\u001b[0m\u001b[0;34m\u001b[0m\n",
       "\u001b[0;34m\u001b[0m    \u001b[0mcoerce_float\u001b[0m\u001b[0;34m:\u001b[0m \u001b[0;34m'bool'\u001b[0m \u001b[0;34m=\u001b[0m \u001b[0;32mTrue\u001b[0m\u001b[0;34m,\u001b[0m\u001b[0;34m\u001b[0m\n",
       "\u001b[0;34m\u001b[0m    \u001b[0mparams\u001b[0m\u001b[0;34m=\u001b[0m\u001b[0;32mNone\u001b[0m\u001b[0;34m,\u001b[0m\u001b[0;34m\u001b[0m\n",
       "\u001b[0;34m\u001b[0m    \u001b[0mparse_dates\u001b[0m\u001b[0;34m=\u001b[0m\u001b[0;32mNone\u001b[0m\u001b[0;34m,\u001b[0m\u001b[0;34m\u001b[0m\n",
       "\u001b[0;34m\u001b[0m    \u001b[0mcolumns\u001b[0m\u001b[0;34m=\u001b[0m\u001b[0;32mNone\u001b[0m\u001b[0;34m,\u001b[0m\u001b[0;34m\u001b[0m\n",
       "\u001b[0;34m\u001b[0m    \u001b[0mchunksize\u001b[0m\u001b[0;34m:\u001b[0m \u001b[0;34m'int | None'\u001b[0m \u001b[0;34m=\u001b[0m \u001b[0;32mNone\u001b[0m\u001b[0;34m,\u001b[0m\u001b[0;34m\u001b[0m\n",
       "\u001b[0;34m\u001b[0m\u001b[0;34m)\u001b[0m \u001b[0;34m->\u001b[0m \u001b[0;34m'DataFrame | Iterator[DataFrame]'\u001b[0m\u001b[0;34m\u001b[0m\u001b[0;34m\u001b[0m\u001b[0m\n",
       "\u001b[0;31mDocstring:\u001b[0m\n",
       "Read SQL query or database table into a DataFrame.\n",
       "\n",
       "This function is a convenience wrapper around ``read_sql_table`` and\n",
       "``read_sql_query`` (for backward compatibility). It will delegate\n",
       "to the specific function depending on the provided input. A SQL query\n",
       "will be routed to ``read_sql_query``, while a database table name will\n",
       "be routed to ``read_sql_table``. Note that the delegated function might\n",
       "have more specific notes about their functionality not listed here.\n",
       "\n",
       "Parameters\n",
       "----------\n",
       "sql : str or SQLAlchemy Selectable (select or text object)\n",
       "    SQL query to be executed or a table name.\n",
       "con : SQLAlchemy connectable, str, or sqlite3 connection\n",
       "    Using SQLAlchemy makes it possible to use any DB supported by that\n",
       "    library. If a DBAPI2 object, only sqlite3 is supported. The user is responsible\n",
       "    for engine disposal and connection closure for the SQLAlchemy connectable; str\n",
       "    connections are closed automatically. See\n",
       "    `here <https://docs.sqlalchemy.org/en/13/core/connections.html>`_.\n",
       "index_col : str or list of str, optional, default: None\n",
       "    Column(s) to set as index(MultiIndex).\n",
       "coerce_float : bool, default True\n",
       "    Attempts to convert values of non-string, non-numeric objects (like\n",
       "    decimal.Decimal) to floating point, useful for SQL result sets.\n",
       "params : list, tuple or dict, optional, default: None\n",
       "    List of parameters to pass to execute method.  The syntax used\n",
       "    to pass parameters is database driver dependent. Check your\n",
       "    database driver documentation for which of the five syntax styles,\n",
       "    described in PEP 249's paramstyle, is supported.\n",
       "    Eg. for psycopg2, uses %(name)s so use params={'name' : 'value'}.\n",
       "parse_dates : list or dict, default: None\n",
       "    - List of column names to parse as dates.\n",
       "    - Dict of ``{column_name: format string}`` where format string is\n",
       "      strftime compatible in case of parsing string times, or is one of\n",
       "      (D, s, ns, ms, us) in case of parsing integer timestamps.\n",
       "    - Dict of ``{column_name: arg dict}``, where the arg dict corresponds\n",
       "      to the keyword arguments of :func:`pandas.to_datetime`\n",
       "      Especially useful with databases without native Datetime support,\n",
       "      such as SQLite.\n",
       "columns : list, default: None\n",
       "    List of column names to select from SQL table (only used when reading\n",
       "    a table).\n",
       "chunksize : int, default None\n",
       "    If specified, return an iterator where `chunksize` is the\n",
       "    number of rows to include in each chunk.\n",
       "\n",
       "Returns\n",
       "-------\n",
       "DataFrame or Iterator[DataFrame]\n",
       "\n",
       "See Also\n",
       "--------\n",
       "read_sql_table : Read SQL database table into a DataFrame.\n",
       "read_sql_query : Read SQL query into a DataFrame.\n",
       "\n",
       "Examples\n",
       "--------\n",
       "Read data from SQL via either a SQL query or a SQL tablename.\n",
       "When using a SQLite database only SQL queries are accepted,\n",
       "providing only the SQL tablename will result in an error.\n",
       "\n",
       ">>> from sqlite3 import connect\n",
       ">>> conn = connect(':memory:')\n",
       ">>> df = pd.DataFrame(data=[[0, '10/11/12'], [1, '12/11/10']],\n",
       "...                   columns=['int_column', 'date_column'])\n",
       ">>> df.to_sql('test_data', conn)\n",
       "\n",
       ">>> pd.read_sql('SELECT int_column, date_column FROM test_data', conn)\n",
       "   int_column date_column\n",
       "0           0    10/11/12\n",
       "1           1    12/11/10\n",
       "\n",
       ">>> pd.read_sql('test_data', 'postgres:///db_name')  # doctest:+SKIP\n",
       "\n",
       "Apply date parsing to columns through the ``parse_dates`` argument\n",
       "\n",
       ">>> pd.read_sql('SELECT int_column, date_column FROM test_data',\n",
       "...             conn,\n",
       "...             parse_dates=[\"date_column\"])\n",
       "   int_column date_column\n",
       "0           0  2012-10-11\n",
       "1           1  2010-12-11\n",
       "\n",
       "The ``parse_dates`` argument calls ``pd.to_datetime`` on the provided columns.\n",
       "Custom argument values for applying ``pd.to_datetime`` on a column are specified\n",
       "via a dictionary format:\n",
       "1. Ignore errors while parsing the values of \"date_column\"\n",
       "\n",
       ">>> pd.read_sql('SELECT int_column, date_column FROM test_data',\n",
       "...             conn,\n",
       "...             parse_dates={\"date_column\": {\"errors\": \"ignore\"}})\n",
       "   int_column date_column\n",
       "0           0  2012-10-11\n",
       "1           1  2010-12-11\n",
       "\n",
       "2. Apply a dayfirst date parsing order on the values of \"date_column\"\n",
       "\n",
       ">>> pd.read_sql('SELECT int_column, date_column FROM test_data',\n",
       "...             conn,\n",
       "...             parse_dates={\"date_column\": {\"dayfirst\": True}})\n",
       "   int_column date_column\n",
       "0           0  2012-11-10\n",
       "1           1  2010-11-12\n",
       "\n",
       "3. Apply custom formatting when date parsing the values of \"date_column\"\n",
       "\n",
       ">>> pd.read_sql('SELECT int_column, date_column FROM test_data',\n",
       "...             conn,\n",
       "...             parse_dates={\"date_column\": {\"format\": \"%d/%m/%y\"}})\n",
       "   int_column date_column\n",
       "0           0  2012-11-10\n",
       "1           1  2010-11-12\n",
       "\u001b[0;31mFile:\u001b[0m      /opt/anaconda3/lib/python3.9/site-packages/pandas/io/sql.py\n",
       "\u001b[0;31mType:\u001b[0m      function\n"
      ]
     },
     "metadata": {},
     "output_type": "display_data"
    }
   ],
   "source": [
    "?pd.read_sql"
   ]
  },
  {
   "cell_type": "markdown",
   "id": "6cef448f-4687-4a12-829a-39e4a4273dd2",
   "metadata": {},
   "source": [
    "## read_sql"
   ]
  },
  {
   "cell_type": "code",
   "execution_count": 13,
   "id": "6ef95e45-3ea2-4f3d-b738-e91498713e6c",
   "metadata": {
    "collapsed": true,
    "jupyter": {
     "outputs_hidden": true
    },
    "tags": []
   },
   "outputs": [
    {
     "data": {
      "text/html": [
       "<div>\n",
       "<style scoped>\n",
       "    .dataframe tbody tr th:only-of-type {\n",
       "        vertical-align: middle;\n",
       "    }\n",
       "\n",
       "    .dataframe tbody tr th {\n",
       "        vertical-align: top;\n",
       "    }\n",
       "\n",
       "    .dataframe thead th {\n",
       "        text-align: right;\n",
       "    }\n",
       "</style>\n",
       "<table border=\"1\" class=\"dataframe\">\n",
       "  <thead>\n",
       "    <tr style=\"text-align: right;\">\n",
       "      <th></th>\n",
       "      <th>MUSTERI_SAYISI</th>\n",
       "      <th>Country</th>\n",
       "    </tr>\n",
       "  </thead>\n",
       "  <tbody>\n",
       "    <tr>\n",
       "      <th>0</th>\n",
       "      <td>3</td>\n",
       "      <td>Argentina</td>\n",
       "    </tr>\n",
       "    <tr>\n",
       "      <th>1</th>\n",
       "      <td>2</td>\n",
       "      <td>Austria</td>\n",
       "    </tr>\n",
       "    <tr>\n",
       "      <th>2</th>\n",
       "      <td>2</td>\n",
       "      <td>Belgium</td>\n",
       "    </tr>\n",
       "    <tr>\n",
       "      <th>3</th>\n",
       "      <td>9</td>\n",
       "      <td>Brazil</td>\n",
       "    </tr>\n",
       "    <tr>\n",
       "      <th>4</th>\n",
       "      <td>3</td>\n",
       "      <td>Canada</td>\n",
       "    </tr>\n",
       "    <tr>\n",
       "      <th>5</th>\n",
       "      <td>2</td>\n",
       "      <td>Denmark</td>\n",
       "    </tr>\n",
       "    <tr>\n",
       "      <th>6</th>\n",
       "      <td>2</td>\n",
       "      <td>Finland</td>\n",
       "    </tr>\n",
       "    <tr>\n",
       "      <th>7</th>\n",
       "      <td>11</td>\n",
       "      <td>France</td>\n",
       "    </tr>\n",
       "    <tr>\n",
       "      <th>8</th>\n",
       "      <td>11</td>\n",
       "      <td>Germany</td>\n",
       "    </tr>\n",
       "    <tr>\n",
       "      <th>9</th>\n",
       "      <td>1</td>\n",
       "      <td>Ireland</td>\n",
       "    </tr>\n",
       "    <tr>\n",
       "      <th>10</th>\n",
       "      <td>3</td>\n",
       "      <td>Italy</td>\n",
       "    </tr>\n",
       "    <tr>\n",
       "      <th>11</th>\n",
       "      <td>5</td>\n",
       "      <td>Mexico</td>\n",
       "    </tr>\n",
       "    <tr>\n",
       "      <th>12</th>\n",
       "      <td>1</td>\n",
       "      <td>Norway</td>\n",
       "    </tr>\n",
       "    <tr>\n",
       "      <th>13</th>\n",
       "      <td>1</td>\n",
       "      <td>Poland</td>\n",
       "    </tr>\n",
       "    <tr>\n",
       "      <th>14</th>\n",
       "      <td>2</td>\n",
       "      <td>Portugal</td>\n",
       "    </tr>\n",
       "    <tr>\n",
       "      <th>15</th>\n",
       "      <td>5</td>\n",
       "      <td>Spain</td>\n",
       "    </tr>\n",
       "    <tr>\n",
       "      <th>16</th>\n",
       "      <td>2</td>\n",
       "      <td>Sweden</td>\n",
       "    </tr>\n",
       "    <tr>\n",
       "      <th>17</th>\n",
       "      <td>2</td>\n",
       "      <td>Switzerland</td>\n",
       "    </tr>\n",
       "    <tr>\n",
       "      <th>18</th>\n",
       "      <td>7</td>\n",
       "      <td>UK</td>\n",
       "    </tr>\n",
       "    <tr>\n",
       "      <th>19</th>\n",
       "      <td>13</td>\n",
       "      <td>USA</td>\n",
       "    </tr>\n",
       "    <tr>\n",
       "      <th>20</th>\n",
       "      <td>4</td>\n",
       "      <td>Venezuela</td>\n",
       "    </tr>\n",
       "  </tbody>\n",
       "</table>\n",
       "</div>"
      ],
      "text/plain": [
       "    MUSTERI_SAYISI      Country\n",
       "0                3    Argentina\n",
       "1                2      Austria\n",
       "2                2      Belgium\n",
       "3                9       Brazil\n",
       "4                3       Canada\n",
       "5                2      Denmark\n",
       "6                2      Finland\n",
       "7               11       France\n",
       "8               11      Germany\n",
       "9                1      Ireland\n",
       "10               3        Italy\n",
       "11               5       Mexico\n",
       "12               1       Norway\n",
       "13               1       Poland\n",
       "14               2     Portugal\n",
       "15               5        Spain\n",
       "16               2       Sweden\n",
       "17               2  Switzerland\n",
       "18               7           UK\n",
       "19              13          USA\n",
       "20               4    Venezuela"
      ]
     },
     "execution_count": 13,
     "metadata": {},
     "output_type": "execute_result"
    }
   ],
   "source": [
    "pd.read_sql(\"\"\"SELECT \n",
    "COUNT(CustomerID) AS MUSTERI_SAYISI, Country \n",
    "FROM Customers \n",
    "GROUP BY Country;\"\"\", conn)"
   ]
  },
  {
   "cell_type": "code",
   "execution_count": 14,
   "id": "9a0cad3f-75f3-423b-acd6-42e1414fa6fc",
   "metadata": {},
   "outputs": [],
   "source": [
    "ab = pd.read_sql(\"\"\"SELECT \n",
    "COUNT(CustomerID) AS MUSTERI_SAYISI, Country \n",
    "FROM Customers \n",
    "GROUP BY Country;\"\"\", conn)"
   ]
  },
  {
   "cell_type": "code",
   "execution_count": 18,
   "id": "33cac9d5-d943-48f7-9a8a-b0c7eb8b2a6f",
   "metadata": {
    "collapsed": true,
    "jupyter": {
     "outputs_hidden": true
    },
    "tags": []
   },
   "outputs": [
    {
     "data": {
      "text/html": [
       "<div>\n",
       "<style scoped>\n",
       "    .dataframe tbody tr th:only-of-type {\n",
       "        vertical-align: middle;\n",
       "    }\n",
       "\n",
       "    .dataframe tbody tr th {\n",
       "        vertical-align: top;\n",
       "    }\n",
       "\n",
       "    .dataframe thead th {\n",
       "        text-align: right;\n",
       "    }\n",
       "</style>\n",
       "<table border=\"1\" class=\"dataframe\">\n",
       "  <thead>\n",
       "    <tr style=\"text-align: right;\">\n",
       "      <th></th>\n",
       "      <th>MUSTERI_SAYISI</th>\n",
       "      <th>Country</th>\n",
       "    </tr>\n",
       "  </thead>\n",
       "  <tbody>\n",
       "    <tr>\n",
       "      <th>0</th>\n",
       "      <td>3</td>\n",
       "      <td>Argentina</td>\n",
       "    </tr>\n",
       "    <tr>\n",
       "      <th>1</th>\n",
       "      <td>2</td>\n",
       "      <td>Austria</td>\n",
       "    </tr>\n",
       "    <tr>\n",
       "      <th>2</th>\n",
       "      <td>2</td>\n",
       "      <td>Belgium</td>\n",
       "    </tr>\n",
       "    <tr>\n",
       "      <th>3</th>\n",
       "      <td>9</td>\n",
       "      <td>Brazil</td>\n",
       "    </tr>\n",
       "    <tr>\n",
       "      <th>4</th>\n",
       "      <td>3</td>\n",
       "      <td>Canada</td>\n",
       "    </tr>\n",
       "    <tr>\n",
       "      <th>5</th>\n",
       "      <td>2</td>\n",
       "      <td>Denmark</td>\n",
       "    </tr>\n",
       "    <tr>\n",
       "      <th>6</th>\n",
       "      <td>2</td>\n",
       "      <td>Finland</td>\n",
       "    </tr>\n",
       "    <tr>\n",
       "      <th>7</th>\n",
       "      <td>11</td>\n",
       "      <td>France</td>\n",
       "    </tr>\n",
       "    <tr>\n",
       "      <th>8</th>\n",
       "      <td>11</td>\n",
       "      <td>Germany</td>\n",
       "    </tr>\n",
       "    <tr>\n",
       "      <th>9</th>\n",
       "      <td>1</td>\n",
       "      <td>Ireland</td>\n",
       "    </tr>\n",
       "    <tr>\n",
       "      <th>10</th>\n",
       "      <td>3</td>\n",
       "      <td>Italy</td>\n",
       "    </tr>\n",
       "    <tr>\n",
       "      <th>11</th>\n",
       "      <td>5</td>\n",
       "      <td>Mexico</td>\n",
       "    </tr>\n",
       "    <tr>\n",
       "      <th>12</th>\n",
       "      <td>1</td>\n",
       "      <td>Norway</td>\n",
       "    </tr>\n",
       "    <tr>\n",
       "      <th>13</th>\n",
       "      <td>1</td>\n",
       "      <td>Poland</td>\n",
       "    </tr>\n",
       "    <tr>\n",
       "      <th>14</th>\n",
       "      <td>2</td>\n",
       "      <td>Portugal</td>\n",
       "    </tr>\n",
       "    <tr>\n",
       "      <th>15</th>\n",
       "      <td>5</td>\n",
       "      <td>Spain</td>\n",
       "    </tr>\n",
       "    <tr>\n",
       "      <th>16</th>\n",
       "      <td>2</td>\n",
       "      <td>Sweden</td>\n",
       "    </tr>\n",
       "    <tr>\n",
       "      <th>17</th>\n",
       "      <td>2</td>\n",
       "      <td>Switzerland</td>\n",
       "    </tr>\n",
       "    <tr>\n",
       "      <th>18</th>\n",
       "      <td>7</td>\n",
       "      <td>UK</td>\n",
       "    </tr>\n",
       "    <tr>\n",
       "      <th>19</th>\n",
       "      <td>13</td>\n",
       "      <td>USA</td>\n",
       "    </tr>\n",
       "    <tr>\n",
       "      <th>20</th>\n",
       "      <td>4</td>\n",
       "      <td>Venezuela</td>\n",
       "    </tr>\n",
       "  </tbody>\n",
       "</table>\n",
       "</div>"
      ],
      "text/plain": [
       "    MUSTERI_SAYISI      Country\n",
       "0                3    Argentina\n",
       "1                2      Austria\n",
       "2                2      Belgium\n",
       "3                9       Brazil\n",
       "4                3       Canada\n",
       "5                2      Denmark\n",
       "6                2      Finland\n",
       "7               11       France\n",
       "8               11      Germany\n",
       "9                1      Ireland\n",
       "10               3        Italy\n",
       "11               5       Mexico\n",
       "12               1       Norway\n",
       "13               1       Poland\n",
       "14               2     Portugal\n",
       "15               5        Spain\n",
       "16               2       Sweden\n",
       "17               2  Switzerland\n",
       "18               7           UK\n",
       "19              13          USA\n",
       "20               4    Venezuela"
      ]
     },
     "execution_count": 18,
     "metadata": {},
     "output_type": "execute_result"
    }
   ],
   "source": [
    "ab"
   ]
  },
  {
   "cell_type": "code",
   "execution_count": 16,
   "id": "64aaeeef-afe2-4ae1-8b9b-240deae01e8b",
   "metadata": {},
   "outputs": [
    {
     "data": {
      "text/plain": [
       "pandas.core.frame.DataFrame"
      ]
     },
     "execution_count": 16,
     "metadata": {},
     "output_type": "execute_result"
    }
   ],
   "source": [
    "type(ab)"
   ]
  },
  {
   "cell_type": "code",
   "execution_count": 17,
   "id": "cee75315-4427-402a-88d0-614af841e6a3",
   "metadata": {},
   "outputs": [],
   "source": [
    "#conn.close()"
   ]
  },
  {
   "cell_type": "code",
   "execution_count": 19,
   "id": "7571c14d-b069-4c18-a4fb-0e1759256d78",
   "metadata": {},
   "outputs": [
    {
     "data": {
      "text/plain": [
       "<sqlite3.Cursor at 0x7fd3a037b2d0>"
      ]
     },
     "execution_count": 19,
     "metadata": {},
     "output_type": "execute_result"
    }
   ],
   "source": [
    "c.execute(\"SELECT CustomerName From Customers LIMIT 5;\")"
   ]
  },
  {
   "cell_type": "code",
   "execution_count": 20,
   "id": "9b78981e-1547-4c08-bb8f-d169c12327ab",
   "metadata": {},
   "outputs": [
    {
     "data": {
      "text/plain": [
       "('Alfreds Futterkiste',)"
      ]
     },
     "execution_count": 20,
     "metadata": {},
     "output_type": "execute_result"
    }
   ],
   "source": [
    "c.fetchone()"
   ]
  },
  {
   "cell_type": "code",
   "execution_count": 21,
   "id": "a180f4a3-9fc2-4607-82ed-75e0280bd4d1",
   "metadata": {},
   "outputs": [
    {
     "data": {
      "text/plain": [
       "[('Ana Trujillo Emparedados y helados',),\n",
       " ('Antonio Moreno Taquería',),\n",
       " ('Around the Horn',),\n",
       " ('Berglunds snabbköp',)]"
      ]
     },
     "execution_count": 21,
     "metadata": {},
     "output_type": "execute_result"
    }
   ],
   "source": [
    "c.fetchall()"
   ]
  },
  {
   "cell_type": "code",
   "execution_count": 23,
   "id": "c837ffe8-a515-4725-a4df-211741043831",
   "metadata": {},
   "outputs": [
    {
     "name": "stdout",
     "output_type": "stream",
     "text": [
      "('Alfreds Futterkiste',)\n",
      "('Ana Trujillo Emparedados y helados',)\n",
      "('Antonio Moreno Taquería',)\n",
      "('Around the Horn',)\n",
      "('Berglunds snabbköp',)\n"
     ]
    }
   ],
   "source": [
    "for row in c.execute('SELECT CustomerName From Customers LIMIT 5;'):\n",
    "    print(row)"
   ]
  },
  {
   "cell_type": "code",
   "execution_count": null,
   "id": "1941cf1f-5d16-4320-a0ee-0727858fbb0f",
   "metadata": {},
   "outputs": [],
   "source": []
  }
 ],
 "metadata": {
  "kernelspec": {
   "display_name": "Python 3 (ipykernel)",
   "language": "python",
   "name": "python3"
  },
  "language_info": {
   "codemirror_mode": {
    "name": "ipython",
    "version": 3
   },
   "file_extension": ".py",
   "mimetype": "text/x-python",
   "name": "python",
   "nbconvert_exporter": "python",
   "pygments_lexer": "ipython3",
   "version": "3.9.7"
  }
 },
 "nbformat": 4,
 "nbformat_minor": 5
}
